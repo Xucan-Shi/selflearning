{
 "cells": [
  {
   "cell_type": "code",
   "execution_count": 1,
   "id": "206365ea-f262-437a-8715-a9a9eef9db0e",
   "metadata": {},
   "outputs": [],
   "source": [
    "import scorecardpy as sc\n",
    "import pandas as pd\n",
    "import numpy as np"
   ]
  },
  {
   "cell_type": "code",
   "execution_count": 2,
   "id": "f4328ec3-e810-4bd9-83de-5790bb6cec68",
   "metadata": {},
   "outputs": [],
   "source": [
    "dat = sc.germancredit()"
   ]
  },
  {
   "cell_type": "code",
   "execution_count": 3,
   "id": "c7d87cf6-88ee-4cac-863a-b257efa635fe",
   "metadata": {},
   "outputs": [
    {
     "data": {
      "text/plain": [
       "(1000, 21)"
      ]
     },
     "execution_count": 3,
     "metadata": {},
     "output_type": "execute_result"
    }
   ],
   "source": [
    "dat.shape"
   ]
  },
  {
   "cell_type": "code",
   "execution_count": 4,
   "id": "5e6a9c29-3be5-4c4a-88e6-1c5505b84649",
   "metadata": {},
   "outputs": [
    {
     "data": {
      "text/html": [
       "<div>\n",
       "<style scoped>\n",
       "    .dataframe tbody tr th:only-of-type {\n",
       "        vertical-align: middle;\n",
       "    }\n",
       "\n",
       "    .dataframe tbody tr th {\n",
       "        vertical-align: top;\n",
       "    }\n",
       "\n",
       "    .dataframe thead th {\n",
       "        text-align: right;\n",
       "    }\n",
       "</style>\n",
       "<table border=\"1\" class=\"dataframe\">\n",
       "  <thead>\n",
       "    <tr style=\"text-align: right;\">\n",
       "      <th></th>\n",
       "      <th>status_of_existing_checking_account</th>\n",
       "      <th>duration_in_month</th>\n",
       "      <th>credit_history</th>\n",
       "      <th>purpose</th>\n",
       "      <th>credit_amount</th>\n",
       "      <th>savings_account_and_bonds</th>\n",
       "      <th>present_employment_since</th>\n",
       "      <th>installment_rate_in_percentage_of_disposable_income</th>\n",
       "      <th>personal_status_and_sex</th>\n",
       "      <th>other_debtors_or_guarantors</th>\n",
       "      <th>...</th>\n",
       "      <th>property</th>\n",
       "      <th>age_in_years</th>\n",
       "      <th>other_installment_plans</th>\n",
       "      <th>housing</th>\n",
       "      <th>number_of_existing_credits_at_this_bank</th>\n",
       "      <th>job</th>\n",
       "      <th>number_of_people_being_liable_to_provide_maintenance_for</th>\n",
       "      <th>telephone</th>\n",
       "      <th>foreign_worker</th>\n",
       "      <th>creditability</th>\n",
       "    </tr>\n",
       "  </thead>\n",
       "  <tbody>\n",
       "    <tr>\n",
       "      <th>169</th>\n",
       "      <td>0 &lt;= ... &lt; 200 DM</td>\n",
       "      <td>24</td>\n",
       "      <td>critical account/ other credits existing (not ...</td>\n",
       "      <td>business</td>\n",
       "      <td>1935</td>\n",
       "      <td>... &lt; 100 DM</td>\n",
       "      <td>... &gt;= 7 years</td>\n",
       "      <td>4</td>\n",
       "      <td>female : divorced/separated/married</td>\n",
       "      <td>none</td>\n",
       "      <td>...</td>\n",
       "      <td>real estate</td>\n",
       "      <td>31</td>\n",
       "      <td>none</td>\n",
       "      <td>own</td>\n",
       "      <td>2</td>\n",
       "      <td>skilled employee / official</td>\n",
       "      <td>1</td>\n",
       "      <td>yes, registered under the customers name</td>\n",
       "      <td>yes</td>\n",
       "      <td>bad</td>\n",
       "    </tr>\n",
       "    <tr>\n",
       "      <th>117</th>\n",
       "      <td>... &lt; 0 DM</td>\n",
       "      <td>10</td>\n",
       "      <td>critical account/ other credits existing (not ...</td>\n",
       "      <td>furniture/equipment</td>\n",
       "      <td>2132</td>\n",
       "      <td>unknown/ no savings account</td>\n",
       "      <td>... &lt; 1 year</td>\n",
       "      <td>2</td>\n",
       "      <td>female : divorced/separated/married</td>\n",
       "      <td>co-applicant</td>\n",
       "      <td>...</td>\n",
       "      <td>real estate</td>\n",
       "      <td>27</td>\n",
       "      <td>none</td>\n",
       "      <td>rent</td>\n",
       "      <td>2</td>\n",
       "      <td>skilled employee / official</td>\n",
       "      <td>1</td>\n",
       "      <td>none</td>\n",
       "      <td>no</td>\n",
       "      <td>good</td>\n",
       "    </tr>\n",
       "    <tr>\n",
       "      <th>708</th>\n",
       "      <td>0 &lt;= ... &lt; 200 DM</td>\n",
       "      <td>9</td>\n",
       "      <td>existing credits paid back duly till now</td>\n",
       "      <td>radio/television</td>\n",
       "      <td>1206</td>\n",
       "      <td>... &lt; 100 DM</td>\n",
       "      <td>... &gt;= 7 years</td>\n",
       "      <td>4</td>\n",
       "      <td>male : single</td>\n",
       "      <td>none</td>\n",
       "      <td>...</td>\n",
       "      <td>real estate</td>\n",
       "      <td>25</td>\n",
       "      <td>none</td>\n",
       "      <td>own</td>\n",
       "      <td>1</td>\n",
       "      <td>skilled employee / official</td>\n",
       "      <td>1</td>\n",
       "      <td>none</td>\n",
       "      <td>yes</td>\n",
       "      <td>good</td>\n",
       "    </tr>\n",
       "    <tr>\n",
       "      <th>871</th>\n",
       "      <td>... &gt;= 200 DM / salary assignments for at leas...</td>\n",
       "      <td>6</td>\n",
       "      <td>critical account/ other credits existing (not ...</td>\n",
       "      <td>car (new)</td>\n",
       "      <td>1343</td>\n",
       "      <td>... &lt; 100 DM</td>\n",
       "      <td>... &gt;= 7 years</td>\n",
       "      <td>1</td>\n",
       "      <td>male : single</td>\n",
       "      <td>none</td>\n",
       "      <td>...</td>\n",
       "      <td>real estate</td>\n",
       "      <td>46</td>\n",
       "      <td>none</td>\n",
       "      <td>own</td>\n",
       "      <td>2</td>\n",
       "      <td>skilled employee / official</td>\n",
       "      <td>2</td>\n",
       "      <td>none</td>\n",
       "      <td>no</td>\n",
       "      <td>good</td>\n",
       "    </tr>\n",
       "    <tr>\n",
       "      <th>48</th>\n",
       "      <td>no checking account</td>\n",
       "      <td>11</td>\n",
       "      <td>critical account/ other credits existing (not ...</td>\n",
       "      <td>car (new)</td>\n",
       "      <td>7228</td>\n",
       "      <td>... &lt; 100 DM</td>\n",
       "      <td>1 &lt;= ... &lt; 4 years</td>\n",
       "      <td>1</td>\n",
       "      <td>male : divorced/separated</td>\n",
       "      <td>none</td>\n",
       "      <td>...</td>\n",
       "      <td>building society savings agreement/ life insur...</td>\n",
       "      <td>39</td>\n",
       "      <td>none</td>\n",
       "      <td>own</td>\n",
       "      <td>2</td>\n",
       "      <td>unskilled - resident</td>\n",
       "      <td>1</td>\n",
       "      <td>none</td>\n",
       "      <td>yes</td>\n",
       "      <td>good</td>\n",
       "    </tr>\n",
       "  </tbody>\n",
       "</table>\n",
       "<p>5 rows × 21 columns</p>\n",
       "</div>"
      ],
      "text/plain": [
       "                   status_of_existing_checking_account  duration_in_month  \\\n",
       "169                                  0 <= ... < 200 DM                 24   \n",
       "117                                         ... < 0 DM                 10   \n",
       "708                                  0 <= ... < 200 DM                  9   \n",
       "871  ... >= 200 DM / salary assignments for at leas...                  6   \n",
       "48                                 no checking account                 11   \n",
       "\n",
       "                                        credit_history              purpose  \\\n",
       "169  critical account/ other credits existing (not ...             business   \n",
       "117  critical account/ other credits existing (not ...  furniture/equipment   \n",
       "708           existing credits paid back duly till now     radio/television   \n",
       "871  critical account/ other credits existing (not ...            car (new)   \n",
       "48   critical account/ other credits existing (not ...            car (new)   \n",
       "\n",
       "     credit_amount    savings_account_and_bonds present_employment_since  \\\n",
       "169           1935                 ... < 100 DM           ... >= 7 years   \n",
       "117           2132  unknown/ no savings account             ... < 1 year   \n",
       "708           1206                 ... < 100 DM           ... >= 7 years   \n",
       "871           1343                 ... < 100 DM           ... >= 7 years   \n",
       "48            7228                 ... < 100 DM       1 <= ... < 4 years   \n",
       "\n",
       "     installment_rate_in_percentage_of_disposable_income  \\\n",
       "169                                                  4     \n",
       "117                                                  2     \n",
       "708                                                  4     \n",
       "871                                                  1     \n",
       "48                                                   1     \n",
       "\n",
       "                 personal_status_and_sex other_debtors_or_guarantors  ...  \\\n",
       "169  female : divorced/separated/married                        none  ...   \n",
       "117  female : divorced/separated/married                co-applicant  ...   \n",
       "708                        male : single                        none  ...   \n",
       "871                        male : single                        none  ...   \n",
       "48             male : divorced/separated                        none  ...   \n",
       "\n",
       "                                              property age_in_years  \\\n",
       "169                                        real estate           31   \n",
       "117                                        real estate           27   \n",
       "708                                        real estate           25   \n",
       "871                                        real estate           46   \n",
       "48   building society savings agreement/ life insur...           39   \n",
       "\n",
       "     other_installment_plans housing number_of_existing_credits_at_this_bank  \\\n",
       "169                     none     own                                       2   \n",
       "117                     none    rent                                       2   \n",
       "708                     none     own                                       1   \n",
       "871                     none     own                                       2   \n",
       "48                      none     own                                       2   \n",
       "\n",
       "                             job  \\\n",
       "169  skilled employee / official   \n",
       "117  skilled employee / official   \n",
       "708  skilled employee / official   \n",
       "871  skilled employee / official   \n",
       "48          unskilled - resident   \n",
       "\n",
       "    number_of_people_being_liable_to_provide_maintenance_for  \\\n",
       "169                                                  1         \n",
       "117                                                  1         \n",
       "708                                                  1         \n",
       "871                                                  2         \n",
       "48                                                   1         \n",
       "\n",
       "                                    telephone foreign_worker creditability  \n",
       "169  yes, registered under the customers name            yes           bad  \n",
       "117                                      none             no          good  \n",
       "708                                      none            yes          good  \n",
       "871                                      none             no          good  \n",
       "48                                       none            yes          good  \n",
       "\n",
       "[5 rows x 21 columns]"
      ]
     },
     "execution_count": 4,
     "metadata": {},
     "output_type": "execute_result"
    }
   ],
   "source": [
    "dat.sample(5)"
   ]
  },
  {
   "cell_type": "code",
   "execution_count": 5,
   "id": "3de49e34-5f18-436d-93c7-3ce7e662c7c5",
   "metadata": {},
   "outputs": [],
   "source": [
    "dat = dat.replace('none',np.nan)"
   ]
  },
  {
   "cell_type": "code",
   "execution_count": 6,
   "id": "1e203d9e-197d-413a-846c-e2fb20d7d685",
   "metadata": {},
   "outputs": [],
   "source": [
    "result1 = (dat.isnull().sum()/dat.shape[0]).map(lambda x:\"{:.2%}\".format(x))"
   ]
  },
  {
   "cell_type": "code",
   "execution_count": 7,
   "id": "4d11e005-74c3-45ee-b691-6f4a1da03eb9",
   "metadata": {},
   "outputs": [
    {
     "name": "stdout",
     "output_type": "stream",
     "text": [
      "status_of_existing_checking_account                          0.00%\n",
      "duration_in_month                                            0.00%\n",
      "credit_history                                               0.00%\n",
      "purpose                                                      0.00%\n",
      "credit_amount                                                0.00%\n",
      "savings_account_and_bonds                                    0.00%\n",
      "present_employment_since                                     0.00%\n",
      "installment_rate_in_percentage_of_disposable_income          0.00%\n",
      "personal_status_and_sex                                      0.00%\n",
      "other_debtors_or_guarantors                                 90.70%\n",
      "present_residence_since                                      0.00%\n",
      "property                                                     0.00%\n",
      "age_in_years                                                 0.00%\n",
      "other_installment_plans                                     81.40%\n",
      "housing                                                      0.00%\n",
      "number_of_existing_credits_at_this_bank                      0.00%\n",
      "job                                                          0.00%\n",
      "number_of_people_being_liable_to_provide_maintenance_for     0.00%\n",
      "telephone                                                   59.60%\n",
      "foreign_worker                                               0.00%\n",
      "creditability                                                0.00%\n",
      "dtype: object\n"
     ]
    }
   ],
   "source": [
    "print(result1)"
   ]
  },
  {
   "cell_type": "code",
   "execution_count": 8,
   "id": "533f1d97-0c45-4f89-9024-381fed8725b6",
   "metadata": {},
   "outputs": [
    {
     "data": {
      "text/plain": [
       "other_installment_plans\n",
       "bank      139\n",
       "stores     47\n",
       "Name: count, dtype: int64"
      ]
     },
     "execution_count": 8,
     "metadata": {},
     "output_type": "execute_result"
    }
   ],
   "source": [
    "dat[\"other_installment_plans\"].value_counts()"
   ]
  },
  {
   "cell_type": "code",
   "execution_count": 9,
   "id": "adb9cf9f-f8d2-4462-854d-14a6d29a192b",
   "metadata": {},
   "outputs": [
    {
     "data": {
      "text/plain": [
       "other_debtors_or_guarantors\n",
       "guarantor       52\n",
       "co-applicant    41\n",
       "Name: count, dtype: int64"
      ]
     },
     "execution_count": 9,
     "metadata": {},
     "output_type": "execute_result"
    }
   ],
   "source": [
    "dat[\"other_debtors_or_guarantors\"].value_counts()"
   ]
  },
  {
   "cell_type": "code",
   "execution_count": 10,
   "id": "c6e3dbbf-3a4f-4c37-a5b8-ff11d5da12e4",
   "metadata": {},
   "outputs": [],
   "source": [
    "dat = dat.drop(columns=[\"other_debtors_or_guarantors\",\"other_installment_plans\",\"telephone\"])"
   ]
  },
  {
   "cell_type": "code",
   "execution_count": 11,
   "id": "e2302568-f21c-489e-9761-8ada44c879d2",
   "metadata": {},
   "outputs": [
    {
     "name": "stdout",
     "output_type": "stream",
     "text": [
      "<class 'pandas.core.frame.DataFrame'>\n",
      "RangeIndex: 1000 entries, 0 to 999\n",
      "Data columns (total 18 columns):\n",
      " #   Column                                                    Non-Null Count  Dtype   \n",
      "---  ------                                                    --------------  -----   \n",
      " 0   status_of_existing_checking_account                       1000 non-null   category\n",
      " 1   duration_in_month                                         1000 non-null   int64   \n",
      " 2   credit_history                                            1000 non-null   category\n",
      " 3   purpose                                                   1000 non-null   object  \n",
      " 4   credit_amount                                             1000 non-null   int64   \n",
      " 5   savings_account_and_bonds                                 1000 non-null   category\n",
      " 6   present_employment_since                                  1000 non-null   category\n",
      " 7   installment_rate_in_percentage_of_disposable_income       1000 non-null   int64   \n",
      " 8   personal_status_and_sex                                   1000 non-null   category\n",
      " 9   present_residence_since                                   1000 non-null   int64   \n",
      " 10  property                                                  1000 non-null   category\n",
      " 11  age_in_years                                              1000 non-null   int64   \n",
      " 12  housing                                                   1000 non-null   category\n",
      " 13  number_of_existing_credits_at_this_bank                   1000 non-null   int64   \n",
      " 14  job                                                       1000 non-null   category\n",
      " 15  number_of_people_being_liable_to_provide_maintenance_for  1000 non-null   int64   \n",
      " 16  foreign_worker                                            1000 non-null   category\n",
      " 17  creditability                                             1000 non-null   object  \n",
      "dtypes: category(9), int64(7), object(2)\n",
      "memory usage: 80.9+ KB\n"
     ]
    }
   ],
   "source": [
    "dat.info()"
   ]
  },
  {
   "cell_type": "code",
   "execution_count": 12,
   "id": "36901cb8-7698-4dd7-bc14-6889299c5b77",
   "metadata": {},
   "outputs": [
    {
     "name": "stdout",
     "output_type": "stream",
     "text": [
      "status_of_existing_checking_account ： 4\n",
      "duration_in_month ： 33\n",
      "credit_history ： 5\n",
      "purpose ： 10\n",
      "credit_amount ： 921\n",
      "savings_account_and_bonds ： 5\n",
      "present_employment_since ： 5\n",
      "installment_rate_in_percentage_of_disposable_income ： 4\n",
      "personal_status_and_sex ： 4\n",
      "present_residence_since ： 4\n",
      "property ： 4\n",
      "age_in_years ： 53\n",
      "housing ： 3\n",
      "number_of_existing_credits_at_this_bank ： 4\n",
      "job ： 4\n",
      "number_of_people_being_liable_to_provide_maintenance_for ： 2\n",
      "foreign_worker ： 2\n",
      "creditability ： 2\n"
     ]
    }
   ],
   "source": [
    "for c in dat.columns:\n",
    "    if str(dat[c].dtype) == \"category\":\n",
    "        dat[c] = dat[c].astype(str)\n",
    "    print(c,\"：\",len(dat[c].unique()))"
   ]
  },
  {
   "cell_type": "code",
   "execution_count": 13,
   "id": "f1006ca6-1b27-48b7-a39d-a53eddec89ed",
   "metadata": {},
   "outputs": [
    {
     "data": {
      "text/html": [
       "<div>\n",
       "<style scoped>\n",
       "    .dataframe tbody tr th:only-of-type {\n",
       "        vertical-align: middle;\n",
       "    }\n",
       "\n",
       "    .dataframe tbody tr th {\n",
       "        vertical-align: top;\n",
       "    }\n",
       "\n",
       "    .dataframe thead th {\n",
       "        text-align: right;\n",
       "    }\n",
       "</style>\n",
       "<table border=\"1\" class=\"dataframe\">\n",
       "  <thead>\n",
       "    <tr style=\"text-align: right;\">\n",
       "      <th></th>\n",
       "      <th>duration_in_month</th>\n",
       "      <th>credit_amount</th>\n",
       "      <th>installment_rate_in_percentage_of_disposable_income</th>\n",
       "      <th>present_residence_since</th>\n",
       "      <th>age_in_years</th>\n",
       "      <th>number_of_existing_credits_at_this_bank</th>\n",
       "      <th>number_of_people_being_liable_to_provide_maintenance_for</th>\n",
       "    </tr>\n",
       "  </thead>\n",
       "  <tbody>\n",
       "    <tr>\n",
       "      <th>count</th>\n",
       "      <td>1000.000000</td>\n",
       "      <td>1000.000000</td>\n",
       "      <td>1000.000000</td>\n",
       "      <td>1000.000000</td>\n",
       "      <td>1000.000000</td>\n",
       "      <td>1000.000000</td>\n",
       "      <td>1000.000000</td>\n",
       "    </tr>\n",
       "    <tr>\n",
       "      <th>mean</th>\n",
       "      <td>20.903000</td>\n",
       "      <td>3271.258000</td>\n",
       "      <td>2.973000</td>\n",
       "      <td>2.845000</td>\n",
       "      <td>35.546000</td>\n",
       "      <td>1.407000</td>\n",
       "      <td>1.155000</td>\n",
       "    </tr>\n",
       "    <tr>\n",
       "      <th>std</th>\n",
       "      <td>12.058814</td>\n",
       "      <td>2822.736876</td>\n",
       "      <td>1.118715</td>\n",
       "      <td>1.103718</td>\n",
       "      <td>11.375469</td>\n",
       "      <td>0.577654</td>\n",
       "      <td>0.362086</td>\n",
       "    </tr>\n",
       "    <tr>\n",
       "      <th>min</th>\n",
       "      <td>4.000000</td>\n",
       "      <td>250.000000</td>\n",
       "      <td>1.000000</td>\n",
       "      <td>1.000000</td>\n",
       "      <td>19.000000</td>\n",
       "      <td>1.000000</td>\n",
       "      <td>1.000000</td>\n",
       "    </tr>\n",
       "    <tr>\n",
       "      <th>25%</th>\n",
       "      <td>12.000000</td>\n",
       "      <td>1365.500000</td>\n",
       "      <td>2.000000</td>\n",
       "      <td>2.000000</td>\n",
       "      <td>27.000000</td>\n",
       "      <td>1.000000</td>\n",
       "      <td>1.000000</td>\n",
       "    </tr>\n",
       "    <tr>\n",
       "      <th>50%</th>\n",
       "      <td>18.000000</td>\n",
       "      <td>2319.500000</td>\n",
       "      <td>3.000000</td>\n",
       "      <td>3.000000</td>\n",
       "      <td>33.000000</td>\n",
       "      <td>1.000000</td>\n",
       "      <td>1.000000</td>\n",
       "    </tr>\n",
       "    <tr>\n",
       "      <th>75%</th>\n",
       "      <td>24.000000</td>\n",
       "      <td>3972.250000</td>\n",
       "      <td>4.000000</td>\n",
       "      <td>4.000000</td>\n",
       "      <td>42.000000</td>\n",
       "      <td>2.000000</td>\n",
       "      <td>1.000000</td>\n",
       "    </tr>\n",
       "    <tr>\n",
       "      <th>max</th>\n",
       "      <td>72.000000</td>\n",
       "      <td>18424.000000</td>\n",
       "      <td>4.000000</td>\n",
       "      <td>4.000000</td>\n",
       "      <td>75.000000</td>\n",
       "      <td>4.000000</td>\n",
       "      <td>2.000000</td>\n",
       "    </tr>\n",
       "  </tbody>\n",
       "</table>\n",
       "</div>"
      ],
      "text/plain": [
       "       duration_in_month  credit_amount  \\\n",
       "count        1000.000000    1000.000000   \n",
       "mean           20.903000    3271.258000   \n",
       "std            12.058814    2822.736876   \n",
       "min             4.000000     250.000000   \n",
       "25%            12.000000    1365.500000   \n",
       "50%            18.000000    2319.500000   \n",
       "75%            24.000000    3972.250000   \n",
       "max            72.000000   18424.000000   \n",
       "\n",
       "       installment_rate_in_percentage_of_disposable_income  \\\n",
       "count                                        1000.000000     \n",
       "mean                                            2.973000     \n",
       "std                                             1.118715     \n",
       "min                                             1.000000     \n",
       "25%                                             2.000000     \n",
       "50%                                             3.000000     \n",
       "75%                                             4.000000     \n",
       "max                                             4.000000     \n",
       "\n",
       "       present_residence_since  age_in_years  \\\n",
       "count              1000.000000   1000.000000   \n",
       "mean                  2.845000     35.546000   \n",
       "std                   1.103718     11.375469   \n",
       "min                   1.000000     19.000000   \n",
       "25%                   2.000000     27.000000   \n",
       "50%                   3.000000     33.000000   \n",
       "75%                   4.000000     42.000000   \n",
       "max                   4.000000     75.000000   \n",
       "\n",
       "       number_of_existing_credits_at_this_bank  \\\n",
       "count                              1000.000000   \n",
       "mean                                  1.407000   \n",
       "std                                   0.577654   \n",
       "min                                   1.000000   \n",
       "25%                                   1.000000   \n",
       "50%                                   1.000000   \n",
       "75%                                   2.000000   \n",
       "max                                   4.000000   \n",
       "\n",
       "       number_of_people_being_liable_to_provide_maintenance_for  \n",
       "count                                        1000.000000         \n",
       "mean                                            1.155000         \n",
       "std                                             0.362086         \n",
       "min                                             1.000000         \n",
       "25%                                             1.000000         \n",
       "50%                                             1.000000         \n",
       "75%                                             1.000000         \n",
       "max                                             2.000000         "
      ]
     },
     "execution_count": 13,
     "metadata": {},
     "output_type": "execute_result"
    }
   ],
   "source": [
    "dat.describe()"
   ]
  },
  {
   "cell_type": "code",
   "execution_count": 14,
   "id": "6db65558-0f5d-469e-a036-7259696450f6",
   "metadata": {},
   "outputs": [
    {
     "name": "stdout",
     "output_type": "stream",
     "text": [
      "[INFO] filtering variables ...\n"
     ]
    },
    {
     "name": "stderr",
     "output_type": "stream",
     "text": [
      "C:\\Users\\shimi\\AppData\\Local\\Programs\\Python\\Python311\\Lib\\site-packages\\scorecardpy\\condition_fun.py:141: UserWarning: The positive value in \"creditability\" was replaced by 1 and negative value by 0.\n",
      "  warnings.warn(\"The positive value in \\\"{}\\\" was replaced by 1 and negative value by 0.\".format(y))\n"
     ]
    }
   ],
   "source": [
    "dt_s = sc.var_filter(dat,y=\"creditability\",iv_limit=0.02)"
   ]
  },
  {
   "cell_type": "code",
   "execution_count": 15,
   "id": "549b4258-106f-488f-bc14-b44433ba5ecd",
   "metadata": {},
   "outputs": [
    {
     "data": {
      "text/plain": [
       "(1000, 18)"
      ]
     },
     "execution_count": 15,
     "metadata": {},
     "output_type": "execute_result"
    }
   ],
   "source": [
    "dat.shape"
   ]
  },
  {
   "cell_type": "code",
   "execution_count": 16,
   "id": "21af5098-545a-4a89-a45c-c2ed49d54335",
   "metadata": {},
   "outputs": [
    {
     "data": {
      "text/plain": [
       "(1000, 12)"
      ]
     },
     "execution_count": 16,
     "metadata": {},
     "output_type": "execute_result"
    }
   ],
   "source": [
    "dt_s.shape"
   ]
  },
  {
   "cell_type": "code",
   "execution_count": 17,
   "id": "09ffe71a-057b-4d81-afe2-c4fe3f028805",
   "metadata": {},
   "outputs": [],
   "source": [
    "train,test = sc.split_df(dt=dt_s,y=\"creditability\").values()"
   ]
  },
  {
   "cell_type": "code",
   "execution_count": 18,
   "id": "8b9c6748-cd2f-4f4c-9622-8c45f9570aa2",
   "metadata": {},
   "outputs": [
    {
     "data": {
      "text/plain": [
       "creditability\n",
       "0    490\n",
       "1    210\n",
       "Name: count, dtype: int64"
      ]
     },
     "execution_count": 18,
     "metadata": {},
     "output_type": "execute_result"
    }
   ],
   "source": [
    "train.creditability.value_counts()"
   ]
  },
  {
   "cell_type": "code",
   "execution_count": 19,
   "id": "b6567c52-1a78-4bdc-8333-e5c0f22b419e",
   "metadata": {},
   "outputs": [],
   "source": [
    "test.creditability.value_counts()\n",
    "\n",
    "import warnings\n",
    "warnings.filterwarnings(\"ignore\")"
   ]
  },
  {
   "cell_type": "code",
   "execution_count": 20,
   "id": "c0262688-d5fd-45ef-bf2a-bed916f2e1e7",
   "metadata": {},
   "outputs": [
    {
     "name": "stdout",
     "output_type": "stream",
     "text": [
      "[INFO] creating woe binning ...\n"
     ]
    },
    {
     "data": {
      "text/html": [
       "<div>\n",
       "<style scoped>\n",
       "    .dataframe tbody tr th:only-of-type {\n",
       "        vertical-align: middle;\n",
       "    }\n",
       "\n",
       "    .dataframe tbody tr th {\n",
       "        vertical-align: top;\n",
       "    }\n",
       "\n",
       "    .dataframe thead th {\n",
       "        text-align: right;\n",
       "    }\n",
       "</style>\n",
       "<table border=\"1\" class=\"dataframe\">\n",
       "  <thead>\n",
       "    <tr style=\"text-align: right;\">\n",
       "      <th></th>\n",
       "      <th>variable</th>\n",
       "      <th>bin</th>\n",
       "      <th>count</th>\n",
       "      <th>count_distr</th>\n",
       "      <th>good</th>\n",
       "      <th>bad</th>\n",
       "      <th>badprob</th>\n",
       "      <th>woe</th>\n",
       "      <th>bin_iv</th>\n",
       "      <th>total_iv</th>\n",
       "      <th>breaks</th>\n",
       "      <th>is_special_values</th>\n",
       "    </tr>\n",
       "  </thead>\n",
       "  <tbody>\n",
       "    <tr>\n",
       "      <th>0</th>\n",
       "      <td>installment_rate_in_percentage_of_disposable_i...</td>\n",
       "      <td>[-inf,3.0)</td>\n",
       "      <td>367</td>\n",
       "      <td>0.367</td>\n",
       "      <td>271</td>\n",
       "      <td>96</td>\n",
       "      <td>0.261580</td>\n",
       "      <td>-0.190473</td>\n",
       "      <td>0.012789</td>\n",
       "      <td>0.025569</td>\n",
       "      <td>3.0</td>\n",
       "      <td>False</td>\n",
       "    </tr>\n",
       "    <tr>\n",
       "      <th>1</th>\n",
       "      <td>installment_rate_in_percentage_of_disposable_i...</td>\n",
       "      <td>[3.0,4.0)</td>\n",
       "      <td>157</td>\n",
       "      <td>0.157</td>\n",
       "      <td>112</td>\n",
       "      <td>45</td>\n",
       "      <td>0.286624</td>\n",
       "      <td>-0.064539</td>\n",
       "      <td>0.000645</td>\n",
       "      <td>0.025569</td>\n",
       "      <td>4.0</td>\n",
       "      <td>False</td>\n",
       "    </tr>\n",
       "    <tr>\n",
       "      <th>2</th>\n",
       "      <td>installment_rate_in_percentage_of_disposable_i...</td>\n",
       "      <td>[4.0,inf)</td>\n",
       "      <td>476</td>\n",
       "      <td>0.476</td>\n",
       "      <td>317</td>\n",
       "      <td>159</td>\n",
       "      <td>0.334034</td>\n",
       "      <td>0.157300</td>\n",
       "      <td>0.012135</td>\n",
       "      <td>0.025569</td>\n",
       "      <td>inf</td>\n",
       "      <td>False</td>\n",
       "    </tr>\n",
       "  </tbody>\n",
       "</table>\n",
       "</div>"
      ],
      "text/plain": [
       "                                            variable         bin  count  \\\n",
       "0  installment_rate_in_percentage_of_disposable_i...  [-inf,3.0)    367   \n",
       "1  installment_rate_in_percentage_of_disposable_i...   [3.0,4.0)    157   \n",
       "2  installment_rate_in_percentage_of_disposable_i...   [4.0,inf)    476   \n",
       "\n",
       "   count_distr  good  bad   badprob       woe    bin_iv  total_iv breaks  \\\n",
       "0        0.367   271   96  0.261580 -0.190473  0.012789  0.025569    3.0   \n",
       "1        0.157   112   45  0.286624 -0.064539  0.000645  0.025569    4.0   \n",
       "2        0.476   317  159  0.334034  0.157300  0.012135  0.025569    inf   \n",
       "\n",
       "   is_special_values  \n",
       "0              False  \n",
       "1              False  \n",
       "2              False  "
      ]
     },
     "execution_count": 20,
     "metadata": {},
     "output_type": "execute_result"
    }
   ],
   "source": [
    "bins = sc.woebin(dt_s,y=\"creditability\",method=\"tree\")\n",
    "bins[\"installment_rate_in_percentage_of_disposable_income\"]"
   ]
  },
  {
   "cell_type": "code",
   "execution_count": 21,
   "id": "fd6cda87-2fd1-4b04-a0dd-c505436a7522",
   "metadata": {},
   "outputs": [],
   "source": [
    "bins_df = pd.concat(bins).reset_index().drop(columns=\"level_0\")"
   ]
  },
  {
   "cell_type": "code",
   "execution_count": 22,
   "id": "3275edc5-a168-4d01-814d-6b15725bb8d6",
   "metadata": {},
   "outputs": [
    {
     "name": "stdout",
     "output_type": "stream",
     "text": [
      "    level_1                                           variable  \\\n",
      "0         0                                     credit_history   \n",
      "1         1                                     credit_history   \n",
      "2         2                                     credit_history   \n",
      "3         3                                     credit_history   \n",
      "4         0                                           property   \n",
      "5         1                                           property   \n",
      "6         2                                           property   \n",
      "7         3                                           property   \n",
      "8         0                status_of_existing_checking_account   \n",
      "9         1                status_of_existing_checking_account   \n",
      "10        2                status_of_existing_checking_account   \n",
      "11        0                                            purpose   \n",
      "12        1                                            purpose   \n",
      "13        2                                            purpose   \n",
      "14        0                                      credit_amount   \n",
      "15        1                                      credit_amount   \n",
      "16        2                                      credit_amount   \n",
      "17        3                                      credit_amount   \n",
      "18        4                                      credit_amount   \n",
      "19        0                          savings_account_and_bonds   \n",
      "20        1                          savings_account_and_bonds   \n",
      "21        2                          savings_account_and_bonds   \n",
      "22        0  installment_rate_in_percentage_of_disposable_i...   \n",
      "23        1  installment_rate_in_percentage_of_disposable_i...   \n",
      "24        2  installment_rate_in_percentage_of_disposable_i...   \n",
      "25        0                                  duration_in_month   \n",
      "26        1                                  duration_in_month   \n",
      "27        2                                  duration_in_month   \n",
      "28        3                                  duration_in_month   \n",
      "29        4                                  duration_in_month   \n",
      "30        0                                            housing   \n",
      "31        1                                            housing   \n",
      "32        2                                            housing   \n",
      "33        0                                       age_in_years   \n",
      "34        1                                       age_in_years   \n",
      "35        2                                       age_in_years   \n",
      "36        3                                       age_in_years   \n",
      "37        4                                       age_in_years   \n",
      "38        0                           present_employment_since   \n",
      "39        1                           present_employment_since   \n",
      "40        2                           present_employment_since   \n",
      "41        3                           present_employment_since   \n",
      "\n",
      "                                                  bin  count  count_distr  \\\n",
      "0   critical account/ other credits existing (not ...    293        0.293   \n",
      "1                     delay in paying off in the past     88        0.088   \n",
      "2            existing credits paid back duly till now    530        0.530   \n",
      "3   all credits at this bank paid back duly%,%no c...     89        0.089   \n",
      "4                                         real estate    282        0.282   \n",
      "5   building society savings agreement/ life insur...    232        0.232   \n",
      "6   car or other, not in attribute Savings account...    332        0.332   \n",
      "7                               unknown / no property    154        0.154   \n",
      "8                                 no checking account    394        0.394   \n",
      "9   ... >= 200 DM / salary assignments for at leas...     63        0.063   \n",
      "10                     0 <= ... < 200 DM%,%... < 0 DM    543        0.543   \n",
      "11                            retraining%,%car (used)    112        0.112   \n",
      "12                                   radio/television    280        0.280   \n",
      "13  furniture/equipment%,%domestic appliances%,%bu...    608        0.608   \n",
      "14                                      [-inf,1400.0)    267        0.267   \n",
      "15                                    [1400.0,1800.0)    105        0.105   \n",
      "16                                    [1800.0,4000.0)    382        0.382   \n",
      "17                                    [4000.0,9200.0)    196        0.196   \n",
      "18                                       [9200.0,inf)     50        0.050   \n",
      "19  ... >= 1000 DM%,%500 <= ... < 1000 DM%,%unknow...    294        0.294   \n",
      "20                                100 <= ... < 500 DM    103        0.103   \n",
      "21                                       ... < 100 DM    603        0.603   \n",
      "22                                         [-inf,3.0)    367        0.367   \n",
      "23                                          [3.0,4.0)    157        0.157   \n",
      "24                                          [4.0,inf)    476        0.476   \n",
      "25                                         [-inf,8.0)     87        0.087   \n",
      "26                                         [8.0,16.0)    344        0.344   \n",
      "27                                        [16.0,34.0)    399        0.399   \n",
      "28                                        [34.0,44.0)    100        0.100   \n",
      "29                                         [44.0,inf)     70        0.070   \n",
      "30                                                own    713        0.713   \n",
      "31                                               rent    179        0.179   \n",
      "32                                           for free    108        0.108   \n",
      "33                                        [-inf,26.0)    190        0.190   \n",
      "34                                        [26.0,28.0)    101        0.101   \n",
      "35                                        [28.0,35.0)    257        0.257   \n",
      "36                                        [35.0,37.0)     79        0.079   \n",
      "37                                         [37.0,inf)    373        0.373   \n",
      "38                                 4 <= ... < 7 years    174        0.174   \n",
      "39                                     ... >= 7 years    253        0.253   \n",
      "40                                 1 <= ... < 4 years    339        0.339   \n",
      "41                          unemployed%,%... < 1 year    234        0.234   \n",
      "\n",
      "    good  bad   badprob       woe    bin_iv  total_iv  \\\n",
      "0    243   50  0.170648 -0.733741  0.132423  0.291830   \n",
      "1     60   28  0.318182  0.085158  0.000649  0.291830   \n",
      "2    361  169  0.318868  0.088319  0.004206  0.291830   \n",
      "3     36   53  0.595506  1.234071  0.154553  0.291830   \n",
      "4    222   60  0.212766 -0.461035  0.054007  0.112638   \n",
      "5    161   71  0.306034  0.028573  0.000190  0.112638   \n",
      "6    230  102  0.307229  0.034191  0.000391  0.112638   \n",
      "7     87   67  0.435065  0.586082  0.058050  0.112638   \n",
      "8    348   46  0.116751 -1.176263  0.404410  0.639372   \n",
      "9     49   14  0.222222 -0.405465  0.009461  0.639372   \n",
      "10   303  240  0.441989  0.614204  0.225501  0.639372   \n",
      "11    94   18  0.160714 -0.805625  0.059846  0.152924   \n",
      "12   218   62  0.221429 -0.410063  0.042959  0.152924   \n",
      "13   388  220  0.361842  0.279920  0.050119  0.152924   \n",
      "14   185   82  0.307116  0.033661  0.000305  0.181220   \n",
      "15    87   18  0.171429 -0.728239  0.046815  0.181220   \n",
      "16   287   95  0.248691 -0.258307  0.024109  0.181220   \n",
      "17   120   76  0.387755  0.390539  0.031987  0.181220   \n",
      "18    21   29  0.580000  1.170071  0.078005  0.181220   \n",
      "19   245   49  0.166667 -0.762140  0.142266  0.190974   \n",
      "20    69   34  0.330097  0.139552  0.002060  0.190974   \n",
      "21   386  217  0.359867  0.271358  0.046648  0.190974   \n",
      "22   271   96  0.261580 -0.190473  0.012789  0.025569   \n",
      "23   112   45  0.286624 -0.064539  0.000645  0.025569   \n",
      "24   317  159  0.334034  0.157300  0.012135  0.025569   \n",
      "25    78    9  0.103448 -1.312186  0.106849  0.282618   \n",
      "26   264   80  0.232558 -0.346625  0.038294  0.282618   \n",
      "27   270  129  0.323308  0.108688  0.004813  0.282618   \n",
      "28    58   42  0.420000  0.524524  0.029973  0.282618   \n",
      "29    30   40  0.571429  1.134980  0.102689  0.282618   \n",
      "30   527  186  0.260870 -0.194156  0.025795  0.083293   \n",
      "31   109   70  0.391061  0.404445  0.031393  0.083293   \n",
      "32    64   44  0.407407  0.472604  0.026106  0.083293   \n",
      "33   110   80  0.421053  0.528844  0.057921  0.130499   \n",
      "34    74   27  0.267327 -0.160930  0.002529  0.130499   \n",
      "35   172   85  0.330739  0.142455  0.005359  0.130499   \n",
      "36    67   12  0.151899 -0.872488  0.048610  0.130499   \n",
      "37   277   96  0.257373 -0.212371  0.016080  0.130499   \n",
      "38   135   39  0.224138 -0.394415  0.024792  0.085301   \n",
      "39   189   64  0.252964 -0.235566  0.013349  0.085301   \n",
      "40   235  104  0.306785  0.032103  0.000352  0.085301   \n",
      "41   141   93  0.397436  0.431137  0.046809  0.085301   \n",
      "\n",
      "                                               breaks  is_special_values  \n",
      "0   critical account/ other credits existing (not ...              False  \n",
      "1                     delay in paying off in the past              False  \n",
      "2            existing credits paid back duly till now              False  \n",
      "3   all credits at this bank paid back duly%,%no c...              False  \n",
      "4                                         real estate              False  \n",
      "5   building society savings agreement/ life insur...              False  \n",
      "6   car or other, not in attribute Savings account...              False  \n",
      "7                               unknown / no property              False  \n",
      "8                                 no checking account              False  \n",
      "9   ... >= 200 DM / salary assignments for at leas...              False  \n",
      "10                     0 <= ... < 200 DM%,%... < 0 DM              False  \n",
      "11                            retraining%,%car (used)              False  \n",
      "12                                   radio/television              False  \n",
      "13  furniture/equipment%,%domestic appliances%,%bu...              False  \n",
      "14                                             1400.0              False  \n",
      "15                                             1800.0              False  \n",
      "16                                             4000.0              False  \n",
      "17                                             9200.0              False  \n",
      "18                                                inf              False  \n",
      "19  ... >= 1000 DM%,%500 <= ... < 1000 DM%,%unknow...              False  \n",
      "20                                100 <= ... < 500 DM              False  \n",
      "21                                       ... < 100 DM              False  \n",
      "22                                                3.0              False  \n",
      "23                                                4.0              False  \n",
      "24                                                inf              False  \n",
      "25                                                8.0              False  \n",
      "26                                               16.0              False  \n",
      "27                                               34.0              False  \n",
      "28                                               44.0              False  \n",
      "29                                                inf              False  \n",
      "30                                                own              False  \n",
      "31                                               rent              False  \n",
      "32                                           for free              False  \n",
      "33                                               26.0              False  \n",
      "34                                               28.0              False  \n",
      "35                                               35.0              False  \n",
      "36                                               37.0              False  \n",
      "37                                                inf              False  \n",
      "38                                 4 <= ... < 7 years              False  \n",
      "39                                     ... >= 7 years              False  \n",
      "40                                 1 <= ... < 4 years              False  \n",
      "41                          unemployed%,%... < 1 year              False  \n"
     ]
    }
   ],
   "source": [
    "print(bins_df)"
   ]
  },
  {
   "cell_type": "code",
   "execution_count": 23,
   "id": "87bda419-8352-412f-ae6f-a84962760d78",
   "metadata": {},
   "outputs": [
    {
     "name": "stdout",
     "output_type": "stream",
     "text": [
      "<class 'pandas.core.frame.DataFrame'>\n",
      "RangeIndex: 5 entries, 0 to 4\n",
      "Data columns (total 12 columns):\n",
      " #   Column             Non-Null Count  Dtype   \n",
      "---  ------             --------------  -----   \n",
      " 0   variable           5 non-null      object  \n",
      " 1   bin                5 non-null      category\n",
      " 2   count              5 non-null      int64   \n",
      " 3   count_distr        5 non-null      float64 \n",
      " 4   good               5 non-null      int64   \n",
      " 5   bad                5 non-null      int64   \n",
      " 6   badprob            5 non-null      float64 \n",
      " 7   woe                5 non-null      float64 \n",
      " 8   bin_iv             5 non-null      float64 \n",
      " 9   total_iv           5 non-null      float64 \n",
      " 10  breaks             5 non-null      object  \n",
      " 11  is_special_values  5 non-null      bool    \n",
      "dtypes: bool(1), category(1), float64(5), int64(3), object(2)\n",
      "memory usage: 754.0+ bytes\n"
     ]
    }
   ],
   "source": [
    "bins[\"age_in_years\"].info()\n",
    "bins_df2 = bins[\"age_in_years\"]"
   ]
  },
  {
   "cell_type": "code",
   "execution_count": 24,
   "id": "068a5bf7-6364-429b-865c-2af707200e1a",
   "metadata": {},
   "outputs": [
    {
     "data": {
      "text/plain": [
       "{'age_in_years': <Figure size 640x480 with 2 Axes>}"
      ]
     },
     "execution_count": 24,
     "metadata": {},
     "output_type": "execute_result"
    },
    {
     "data": {
      "image/png": "[encoded data removed]",
      "text/plain": [
       "<Figure size 640x480 with 2 Axes>"
      ]
     },
     "metadata": {},
     "output_type": "display_data"
    }
   ],
   "source": [
    "sc.woebin_plot(bins['age_in_years'])"
   ]
  },
  {
   "cell_type": "code",
   "execution_count": 25,
   "id": "8546ef27-83e7-4cd0-a9ea-9c855f8e88f3",
   "metadata": {},
   "outputs": [
    {
     "data": {
      "text/plain": [
       "{'credit_amount': <Figure size 640x480 with 2 Axes>}"
      ]
     },
     "execution_count": 25,
     "metadata": {},
     "output_type": "execute_result"
    },
    {
     "data": {
      "image/png": "[encoded data removed]",
      "text/plain": [
       "<Figure size 640x480 with 2 Axes>"
      ]
     },
     "metadata": {},
     "output_type": "display_data"
    }
   ],
   "source": [
    "bins[\"credit_amount\"]\n",
    "sc.woebin_plot(bins[\"credit_amount\"])"
   ]
  },
  {
   "cell_type": "code",
   "execution_count": 26,
   "id": "9fb73ba3-d376-4403-8b5e-cf7420998a6d",
   "metadata": {},
   "outputs": [
    {
     "data": {
      "text/html": [
       "<div>\n",
       "<style scoped>\n",
       "    .dataframe tbody tr th:only-of-type {\n",
       "        vertical-align: middle;\n",
       "    }\n",
       "\n",
       "    .dataframe tbody tr th {\n",
       "        vertical-align: top;\n",
       "    }\n",
       "\n",
       "    .dataframe thead th {\n",
       "        text-align: right;\n",
       "    }\n",
       "</style>\n",
       "<table border=\"1\" class=\"dataframe\">\n",
       "  <thead>\n",
       "    <tr style=\"text-align: right;\">\n",
       "      <th></th>\n",
       "      <th>variable</th>\n",
       "      <th>bin</th>\n",
       "      <th>count</th>\n",
       "      <th>count_distr</th>\n",
       "      <th>good</th>\n",
       "      <th>bad</th>\n",
       "      <th>badprob</th>\n",
       "      <th>woe</th>\n",
       "      <th>bin_iv</th>\n",
       "      <th>total_iv</th>\n",
       "      <th>breaks</th>\n",
       "      <th>is_special_values</th>\n",
       "    </tr>\n",
       "  </thead>\n",
       "  <tbody>\n",
       "    <tr>\n",
       "      <th>0</th>\n",
       "      <td>credit_amount</td>\n",
       "      <td>[-inf,1400.0)</td>\n",
       "      <td>267</td>\n",
       "      <td>0.267</td>\n",
       "      <td>185</td>\n",
       "      <td>82</td>\n",
       "      <td>0.307116</td>\n",
       "      <td>0.033661</td>\n",
       "      <td>0.000305</td>\n",
       "      <td>0.18122</td>\n",
       "      <td>1400.0</td>\n",
       "      <td>False</td>\n",
       "    </tr>\n",
       "    <tr>\n",
       "      <th>1</th>\n",
       "      <td>credit_amount</td>\n",
       "      <td>[1400.0,1800.0)</td>\n",
       "      <td>105</td>\n",
       "      <td>0.105</td>\n",
       "      <td>87</td>\n",
       "      <td>18</td>\n",
       "      <td>0.171429</td>\n",
       "      <td>-0.728239</td>\n",
       "      <td>0.046815</td>\n",
       "      <td>0.18122</td>\n",
       "      <td>1800.0</td>\n",
       "      <td>False</td>\n",
       "    </tr>\n",
       "    <tr>\n",
       "      <th>2</th>\n",
       "      <td>credit_amount</td>\n",
       "      <td>[1800.0,4000.0)</td>\n",
       "      <td>382</td>\n",
       "      <td>0.382</td>\n",
       "      <td>287</td>\n",
       "      <td>95</td>\n",
       "      <td>0.248691</td>\n",
       "      <td>-0.258307</td>\n",
       "      <td>0.024109</td>\n",
       "      <td>0.18122</td>\n",
       "      <td>4000.0</td>\n",
       "      <td>False</td>\n",
       "    </tr>\n",
       "    <tr>\n",
       "      <th>3</th>\n",
       "      <td>credit_amount</td>\n",
       "      <td>[4000.0,9200.0)</td>\n",
       "      <td>196</td>\n",
       "      <td>0.196</td>\n",
       "      <td>120</td>\n",
       "      <td>76</td>\n",
       "      <td>0.387755</td>\n",
       "      <td>0.390539</td>\n",
       "      <td>0.031987</td>\n",
       "      <td>0.18122</td>\n",
       "      <td>9200.0</td>\n",
       "      <td>False</td>\n",
       "    </tr>\n",
       "    <tr>\n",
       "      <th>4</th>\n",
       "      <td>credit_amount</td>\n",
       "      <td>[9200.0,inf)</td>\n",
       "      <td>50</td>\n",
       "      <td>0.050</td>\n",
       "      <td>21</td>\n",
       "      <td>29</td>\n",
       "      <td>0.580000</td>\n",
       "      <td>1.170071</td>\n",
       "      <td>0.078005</td>\n",
       "      <td>0.18122</td>\n",
       "      <td>inf</td>\n",
       "      <td>False</td>\n",
       "    </tr>\n",
       "  </tbody>\n",
       "</table>\n",
       "</div>"
      ],
      "text/plain": [
       "        variable              bin  count  count_distr  good  bad   badprob  \\\n",
       "0  credit_amount    [-inf,1400.0)    267        0.267   185   82  0.307116   \n",
       "1  credit_amount  [1400.0,1800.0)    105        0.105    87   18  0.171429   \n",
       "2  credit_amount  [1800.0,4000.0)    382        0.382   287   95  0.248691   \n",
       "3  credit_amount  [4000.0,9200.0)    196        0.196   120   76  0.387755   \n",
       "4  credit_amount     [9200.0,inf)     50        0.050    21   29  0.580000   \n",
       "\n",
       "        woe    bin_iv  total_iv  breaks  is_special_values  \n",
       "0  0.033661  0.000305   0.18122  1400.0              False  \n",
       "1 -0.728239  0.046815   0.18122  1800.0              False  \n",
       "2 -0.258307  0.024109   0.18122  4000.0              False  \n",
       "3  0.390539  0.031987   0.18122  9200.0              False  \n",
       "4  1.170071  0.078005   0.18122     inf              False  "
      ]
     },
     "execution_count": 26,
     "metadata": {},
     "output_type": "execute_result"
    }
   ],
   "source": [
    "bins[\"credit_amount\"]"
   ]
  },
  {
   "cell_type": "code",
   "execution_count": 27,
   "id": "56b09869-2800-4e8c-ba3f-be7b504762e2",
   "metadata": {},
   "outputs": [
    {
     "name": "stdout",
     "output_type": "stream",
     "text": [
      "[INFO] creating woe binning ...\n"
     ]
    },
    {
     "data": {
      "text/plain": [
       "{'credit_amount': <Figure size 640x480 with 2 Axes>}"
      ]
     },
     "execution_count": 27,
     "metadata": {},
     "output_type": "execute_result"
    },
    {
     "data": {
      "image/png": "[encoded data removed]",
      "text/plain": [
       "<Figure size 640x480 with 2 Axes>"
      ]
     },
     "metadata": {},
     "output_type": "display_data"
    },
    {
     "data": {
      "image/png": "[encoded data removed]",
      "text/plain": [
       "<Figure size 640x480 with 2 Axes>"
      ]
     },
     "metadata": {},
     "output_type": "display_data"
    }
   ],
   "source": [
    "break_adj = {\n",
    "    'age_in_years':[26,35,40],\n",
    "    'credit_amount':[1400,1900,4000]\n",
    "}\n",
    "bins_adj = sc.woebin(dt_s,y=\"creditability\",breaks_list=break_adj)\n",
    "sc.woebin_plot(bins_adj[\"age_in_years\"])\n",
    "sc.woebin_plot(bins_adj[\"credit_amount\"])"
   ]
  },
  {
   "cell_type": "code",
   "execution_count": 28,
   "id": "9f985f91-9be7-4755-b0ef-c8999bb9f10f",
   "metadata": {},
   "outputs": [
    {
     "name": "stdout",
     "output_type": "stream",
     "text": [
      "[INFO] creating woe binning ...\n"
     ]
    },
    {
     "data": {
      "text/plain": [
       "{'age_in_years': <Figure size 640x480 with 2 Axes>}"
      ]
     },
     "execution_count": 28,
     "metadata": {},
     "output_type": "execute_result"
    },
    {
     "data": {
      "image/png": "[encoded data removed]",
      "text/plain": [
       "<Figure size 640x480 with 2 Axes>"
      ]
     },
     "metadata": {},
     "output_type": "display_data"
    }
   ],
   "source": [
    "#继续调整分箱\n",
    "break_adj_a = {\n",
    "    'age_in_years':[26,35,45],\n",
    "}\n",
    "bins_adj_a = sc.woebin(dt_s,y=\"creditability\",breaks_list=break_adj_a)\n",
    "bins_adj_a_df = pd.concat(bins_adj_a).reset_index().drop(columns=\"level_0\")\n",
    "bins_adj_a_df[bins_adj_a_df.variable.isin([\"age_in_years\",'credit_amount'])]\n",
    "sc.woebin_plot(bins_adj_a[\"age_in_years\"])"
   ]
  },
  {
   "cell_type": "code",
   "execution_count": 29,
   "id": "57ad0740-66d1-44b6-a9ea-69d5c88a0e20",
   "metadata": {},
   "outputs": [],
   "source": [
    "#bins_adj_df = pd.concat(bins_adj).reset_index().drop(columns=\"level_0\")"
   ]
  },
  {
   "cell_type": "code",
   "execution_count": 30,
   "id": "70245c35-9dcf-400b-90aa-6bda4ead6184",
   "metadata": {},
   "outputs": [],
   "source": [
    "#bins_adj_df[bins_adj_df.variable.isin([\"age_in_years\",'credit_amount'])]"
   ]
  },
  {
   "cell_type": "code",
   "execution_count": 31,
   "id": "3853b944-d98a-4bd3-913a-3360936caa5e",
   "metadata": {},
   "outputs": [],
   "source": [
    "#sc.woebin_plot(bins_adj[\"age_in_years\"])"
   ]
  },
  {
   "cell_type": "code",
   "execution_count": 32,
   "id": "0b7ae123-3e7f-4f6d-bfc7-c39d17e8bf0f",
   "metadata": {},
   "outputs": [],
   "source": [
    "#sc.woebin_plot(bins_adj['credit_amount'])"
   ]
  },
  {
   "cell_type": "code",
   "execution_count": 33,
   "id": "3d27ac06-6611-4bf6-b456-031a4c0e4155",
   "metadata": {},
   "outputs": [
    {
     "name": "stdout",
     "output_type": "stream",
     "text": [
      "[INFO] filtering variables ...\n",
      "[INFO] filtering variables ...\n",
      "[INFO] creating woe binning ...\n",
      "[INFO] creating woe binning ...\n"
     ]
    }
   ],
   "source": [
    "dt_s_train = sc.var_filter(train,y=\"creditability\",iv_limit=0.02)\n",
    "dt_s_test = sc.var_filter(test,y=\"creditability\",iv_limit=0.02)\n",
    "bins_train = sc.woebin(dt_s_train,y=\"creditability\",method=\"chimerge\")\n",
    "bins_test = sc.woebin(dt_s_test,y=\"creditability\",method=\"chimerge\")"
   ]
  },
  {
   "cell_type": "code",
   "execution_count": 34,
   "id": "dda17e8e-f473-4894-aa13-e0537aa029f6",
   "metadata": {},
   "outputs": [
    {
     "name": "stdout",
     "output_type": "stream",
     "text": [
      "[INFO] creating woe binning ...\n",
      "[INFO] creating woe binning ...\n"
     ]
    },
    {
     "data": {
      "text/plain": [
       "{'age_in_years': <Figure size 640x480 with 2 Axes>}"
      ]
     },
     "execution_count": 34,
     "metadata": {},
     "output_type": "execute_result"
    },
    {
     "data": {
      "image/png": "[encoded data removed]",
      "text/plain": [
       "<Figure size 640x480 with 2 Axes>"
      ]
     },
     "metadata": {},
     "output_type": "display_data"
    },
    {
     "data": {
      "image/png": "[encoded data removed]",
      "text/plain": [
       "<Figure size 640x480 with 2 Axes>"
      ]
     },
     "metadata": {},
     "output_type": "display_data"
    }
   ],
   "source": [
    "bins_adj_train = sc.woebin(dt_s_train,y=\"creditability\",breaks_list=break_adj_a) #调整后数据\n",
    "bins_adj_test = sc.woebin(dt_s_test,y=\"creditability\",breaks_list=break_adj_a) #调整后数据\n",
    "bins_adj_df_train = pd.concat(bins_adj_train).reset_index().drop(columns=\"level_0\")\n",
    "bins_adj_df_test = pd.concat(bins_adj_test).reset_index().drop(columns=\"level_0\")\n",
    "bins_adj_df_train[bins_adj_df_train.variable.isin([\"age_in_years\"])]\n",
    "bins_adj_df_test[bins_adj_df_test.variable.isin([\"age_in_years\"])]\n",
    "sc.woebin_plot(bins_adj_train[\"age_in_years\"])\n",
    "sc.woebin_plot(bins_adj_test[\"age_in_years\"])\n",
    "#看下图，训练集和测试集的趋势基本一致"
   ]
  },
  {
   "cell_type": "code",
   "execution_count": 35,
   "id": "5ffb1cfe-eda2-4c5f-b36f-8ba6ce5118be",
   "metadata": {},
   "outputs": [
    {
     "name": "stdout",
     "output_type": "stream",
     "text": [
      "[INFO] converting into woe values ...\n"
     ]
    }
   ],
   "source": [
    "train_woe = sc.woebin_ply(train,bins_adj_a)"
   ]
  },
  {
   "cell_type": "code",
   "execution_count": 36,
   "id": "1f7ae21f-1ac3-4974-a625-a7ade8462005",
   "metadata": {},
   "outputs": [
    {
     "name": "stdout",
     "output_type": "stream",
     "text": [
      "[INFO] converting into woe values ...\n"
     ]
    }
   ],
   "source": [
    "test_woe = sc.woebin_ply(test,bins_adj_a)"
   ]
  },
  {
   "cell_type": "code",
   "execution_count": 37,
   "id": "2ee9f621-4403-42e0-8865-e889ee3f0a84",
   "metadata": {},
   "outputs": [
    {
     "data": {
      "text/html": [
       "<div>\n",
       "<style scoped>\n",
       "    .dataframe tbody tr th:only-of-type {\n",
       "        vertical-align: middle;\n",
       "    }\n",
       "\n",
       "    .dataframe tbody tr th {\n",
       "        vertical-align: top;\n",
       "    }\n",
       "\n",
       "    .dataframe thead th {\n",
       "        text-align: right;\n",
       "    }\n",
       "</style>\n",
       "<table border=\"1\" class=\"dataframe\">\n",
       "  <thead>\n",
       "    <tr style=\"text-align: right;\">\n",
       "      <th></th>\n",
       "      <th>creditability</th>\n",
       "      <th>credit_history_woe</th>\n",
       "      <th>property_woe</th>\n",
       "      <th>status_of_existing_checking_account_woe</th>\n",
       "      <th>purpose_woe</th>\n",
       "      <th>credit_amount_woe</th>\n",
       "      <th>savings_account_and_bonds_woe</th>\n",
       "      <th>installment_rate_in_percentage_of_disposable_income_woe</th>\n",
       "      <th>duration_in_month_woe</th>\n",
       "      <th>housing_woe</th>\n",
       "      <th>age_in_years_woe</th>\n",
       "      <th>present_employment_since_woe</th>\n",
       "    </tr>\n",
       "  </thead>\n",
       "  <tbody>\n",
       "    <tr>\n",
       "      <th>769</th>\n",
       "      <td>0</td>\n",
       "      <td>-0.733741</td>\n",
       "      <td>-0.461035</td>\n",
       "      <td>-1.176263</td>\n",
       "      <td>-0.410063</td>\n",
       "      <td>-0.728239</td>\n",
       "      <td>0.271358</td>\n",
       "      <td>-0.190473</td>\n",
       "      <td>-0.346625</td>\n",
       "      <td>-0.194156</td>\n",
       "      <td>-0.257959</td>\n",
       "      <td>-0.235566</td>\n",
       "    </tr>\n",
       "    <tr>\n",
       "      <th>270</th>\n",
       "      <td>0</td>\n",
       "      <td>0.088319</td>\n",
       "      <td>0.028573</td>\n",
       "      <td>-1.176263</td>\n",
       "      <td>0.279920</td>\n",
       "      <td>-0.258307</td>\n",
       "      <td>-0.762140</td>\n",
       "      <td>0.157300</td>\n",
       "      <td>0.108688</td>\n",
       "      <td>-0.194156</td>\n",
       "      <td>0.060465</td>\n",
       "      <td>-0.394415</td>\n",
       "    </tr>\n",
       "    <tr>\n",
       "      <th>518</th>\n",
       "      <td>0</td>\n",
       "      <td>0.088319</td>\n",
       "      <td>0.028573</td>\n",
       "      <td>0.614204</td>\n",
       "      <td>0.279920</td>\n",
       "      <td>0.033661</td>\n",
       "      <td>0.139552</td>\n",
       "      <td>-0.064539</td>\n",
       "      <td>-1.312186</td>\n",
       "      <td>-0.194156</td>\n",
       "      <td>-0.354949</td>\n",
       "      <td>-0.235566</td>\n",
       "    </tr>\n",
       "    <tr>\n",
       "      <th>82</th>\n",
       "      <td>0</td>\n",
       "      <td>0.088319</td>\n",
       "      <td>0.028573</td>\n",
       "      <td>-1.176263</td>\n",
       "      <td>0.279920</td>\n",
       "      <td>-0.728239</td>\n",
       "      <td>0.139552</td>\n",
       "      <td>-0.064539</td>\n",
       "      <td>0.108688</td>\n",
       "      <td>0.404445</td>\n",
       "      <td>0.528844</td>\n",
       "      <td>0.032103</td>\n",
       "    </tr>\n",
       "    <tr>\n",
       "      <th>397</th>\n",
       "      <td>0</td>\n",
       "      <td>-0.733741</td>\n",
       "      <td>0.028573</td>\n",
       "      <td>0.614204</td>\n",
       "      <td>0.279920</td>\n",
       "      <td>-0.258307</td>\n",
       "      <td>0.271358</td>\n",
       "      <td>-0.064539</td>\n",
       "      <td>0.524524</td>\n",
       "      <td>-0.194156</td>\n",
       "      <td>-0.257959</td>\n",
       "      <td>0.032103</td>\n",
       "    </tr>\n",
       "  </tbody>\n",
       "</table>\n",
       "</div>"
      ],
      "text/plain": [
       "     creditability  credit_history_woe  property_woe  \\\n",
       "769              0           -0.733741     -0.461035   \n",
       "270              0            0.088319      0.028573   \n",
       "518              0            0.088319      0.028573   \n",
       "82               0            0.088319      0.028573   \n",
       "397              0           -0.733741      0.028573   \n",
       "\n",
       "     status_of_existing_checking_account_woe  purpose_woe  credit_amount_woe  \\\n",
       "769                                -1.176263    -0.410063          -0.728239   \n",
       "270                                -1.176263     0.279920          -0.258307   \n",
       "518                                 0.614204     0.279920           0.033661   \n",
       "82                                 -1.176263     0.279920          -0.728239   \n",
       "397                                 0.614204     0.279920          -0.258307   \n",
       "\n",
       "     savings_account_and_bonds_woe  \\\n",
       "769                       0.271358   \n",
       "270                      -0.762140   \n",
       "518                       0.139552   \n",
       "82                        0.139552   \n",
       "397                       0.271358   \n",
       "\n",
       "     installment_rate_in_percentage_of_disposable_income_woe  \\\n",
       "769                                          -0.190473         \n",
       "270                                           0.157300         \n",
       "518                                          -0.064539         \n",
       "82                                           -0.064539         \n",
       "397                                          -0.064539         \n",
       "\n",
       "     duration_in_month_woe  housing_woe  age_in_years_woe  \\\n",
       "769              -0.346625    -0.194156         -0.257959   \n",
       "270               0.108688    -0.194156          0.060465   \n",
       "518              -1.312186    -0.194156         -0.354949   \n",
       "82                0.108688     0.404445          0.528844   \n",
       "397               0.524524    -0.194156         -0.257959   \n",
       "\n",
       "     present_employment_since_woe  \n",
       "769                     -0.235566  \n",
       "270                     -0.394415  \n",
       "518                     -0.235566  \n",
       "82                       0.032103  \n",
       "397                      0.032103  "
      ]
     },
     "execution_count": 37,
     "metadata": {},
     "output_type": "execute_result"
    }
   ],
   "source": [
    "train_woe.sample(5)"
   ]
  },
  {
   "cell_type": "code",
   "execution_count": 38,
   "id": "c6388b5d-4597-477b-98cf-f98431c598c9",
   "metadata": {},
   "outputs": [],
   "source": [
    "#进行逻辑回归"
   ]
  },
  {
   "cell_type": "code",
   "execution_count": 39,
   "id": "ca705180-1829-4555-a2b6-b8640bdf47dd",
   "metadata": {},
   "outputs": [],
   "source": [
    "from sklearn.linear_model import LogisticRegression"
   ]
  },
  {
   "cell_type": "code",
   "execution_count": 40,
   "id": "13130e5d-68d2-4905-944c-130debf88072",
   "metadata": {},
   "outputs": [],
   "source": [
    "y_train = train_woe.loc[:,\"creditability\"]\n",
    "X_train = train_woe.loc[:,train_woe.columns!=\"creditability\"] #y轴是good，x轴是bad"
   ]
  },
  {
   "cell_type": "code",
   "execution_count": 41,
   "id": "c5c45b76-b0bf-4bd4-9d39-eab8ce702f37",
   "metadata": {},
   "outputs": [],
   "source": [
    "y_test = test_woe.loc[:,\"creditability\"]\n",
    "X_test = test_woe.loc[:,test_woe.columns!=\"creditability\"]"
   ]
  },
  {
   "cell_type": "code",
   "execution_count": 42,
   "id": "4a70dc1f-e993-4e30-bcdb-99a5358b8d5b",
   "metadata": {},
   "outputs": [
    {
     "data": {
      "text/html": [
       "<style>#sk-container-id-1 {color: black;}#sk-container-id-1 pre{padding: 0;}#sk-container-id-1 div.sk-toggleable {background-color: white;}#sk-container-id-1 label.sk-toggleable__label {cursor: pointer;display: block;width: 100%;margin-bottom: 0;padding: 0.3em;box-sizing: border-box;text-align: center;}#sk-container-id-1 label.sk-toggleable__label-arrow:before {content: \"▸\";float: left;margin-right: 0.25em;color: #696969;}#sk-container-id-1 label.sk-toggleable__label-arrow:hover:before {color: black;}#sk-container-id-1 div.sk-estimator:hover label.sk-toggleable__label-arrow:before {color: black;}#sk-container-id-1 div.sk-toggleable__content {max-height: 0;max-width: 0;overflow: hidden;text-align: left;background-color: #f0f8ff;}#sk-container-id-1 div.sk-toggleable__content pre {margin: 0.2em;color: black;border-radius: 0.25em;background-color: #f0f8ff;}#sk-container-id-1 input.sk-toggleable__control:checked~div.sk-toggleable__content {max-height: 200px;max-width: 100%;overflow: auto;}#sk-container-id-1 input.sk-toggleable__control:checked~label.sk-toggleable__label-arrow:before {content: \"▾\";}#sk-container-id-1 div.sk-estimator input.sk-toggleable__control:checked~label.sk-toggleable__label {background-color: #d4ebff;}#sk-container-id-1 div.sk-label input.sk-toggleable__control:checked~label.sk-toggleable__label {background-color: #d4ebff;}#sk-container-id-1 input.sk-hidden--visually {border: 0;clip: rect(1px 1px 1px 1px);clip: rect(1px, 1px, 1px, 1px);height: 1px;margin: -1px;overflow: hidden;padding: 0;position: absolute;width: 1px;}#sk-container-id-1 div.sk-estimator {font-family: monospace;background-color: #f0f8ff;border: 1px dotted black;border-radius: 0.25em;box-sizing: border-box;margin-bottom: 0.5em;}#sk-container-id-1 div.sk-estimator:hover {background-color: #d4ebff;}#sk-container-id-1 div.sk-parallel-item::after {content: \"\";width: 100%;border-bottom: 1px solid gray;flex-grow: 1;}#sk-container-id-1 div.sk-label:hover label.sk-toggleable__label {background-color: #d4ebff;}#sk-container-id-1 div.sk-serial::before {content: \"\";position: absolute;border-left: 1px solid gray;box-sizing: border-box;top: 0;bottom: 0;left: 50%;z-index: 0;}#sk-container-id-1 div.sk-serial {display: flex;flex-direction: column;align-items: center;background-color: white;padding-right: 0.2em;padding-left: 0.2em;position: relative;}#sk-container-id-1 div.sk-item {position: relative;z-index: 1;}#sk-container-id-1 div.sk-parallel {display: flex;align-items: stretch;justify-content: center;background-color: white;position: relative;}#sk-container-id-1 div.sk-item::before, #sk-container-id-1 div.sk-parallel-item::before {content: \"\";position: absolute;border-left: 1px solid gray;box-sizing: border-box;top: 0;bottom: 0;left: 50%;z-index: -1;}#sk-container-id-1 div.sk-parallel-item {display: flex;flex-direction: column;z-index: 1;position: relative;background-color: white;}#sk-container-id-1 div.sk-parallel-item:first-child::after {align-self: flex-end;width: 50%;}#sk-container-id-1 div.sk-parallel-item:last-child::after {align-self: flex-start;width: 50%;}#sk-container-id-1 div.sk-parallel-item:only-child::after {width: 0;}#sk-container-id-1 div.sk-dashed-wrapped {border: 1px dashed gray;margin: 0 0.4em 0.5em 0.4em;box-sizing: border-box;padding-bottom: 0.4em;background-color: white;}#sk-container-id-1 div.sk-label label {font-family: monospace;font-weight: bold;display: inline-block;line-height: 1.2em;}#sk-container-id-1 div.sk-label-container {text-align: center;}#sk-container-id-1 div.sk-container {/* jupyter's `normalize.less` sets `[hidden] { display: none; }` but bootstrap.min.css set `[hidden] { display: none !important; }` so we also need the `!important` here to be able to override the default hidden behavior on the sphinx rendered scikit-learn.org. See: https://github.com/scikit-learn/scikit-learn/issues/21755 */display: inline-block !important;position: relative;}#sk-container-id-1 div.sk-text-repr-fallback {display: none;}</style><div id=\"sk-container-id-1\" class=\"sk-top-container\"><div class=\"sk-text-repr-fallback\"><pre>LogisticRegression(C=0.9, n_jobs=-1, penalty=&#x27;l1&#x27;, solver=&#x27;saga&#x27;)</pre><b>In a Jupyter environment, please rerun this cell to show the HTML representation or trust the notebook. <br />On GitHub, the HTML representation is unable to render, please try loading this page with nbviewer.org.</b></div><div class=\"sk-container\" hidden><div class=\"sk-item\"><div class=\"sk-estimator sk-toggleable\"><input class=\"sk-toggleable__control sk-hidden--visually\" id=\"sk-estimator-id-1\" type=\"checkbox\" checked><label for=\"sk-estimator-id-1\" class=\"sk-toggleable__label sk-toggleable__label-arrow\">LogisticRegression</label><div class=\"sk-toggleable__content\"><pre>LogisticRegression(C=0.9, n_jobs=-1, penalty=&#x27;l1&#x27;, solver=&#x27;saga&#x27;)</pre></div></div></div></div></div>"
      ],
      "text/plain": [
       "LogisticRegression(C=0.9, n_jobs=-1, penalty='l1', solver='saga')"
      ]
     },
     "execution_count": 42,
     "metadata": {},
     "output_type": "execute_result"
    }
   ],
   "source": [
    "lr = LogisticRegression(penalty='l1',C=0.9,solver='saga',n_jobs=-1)\n",
    "lr.fit(X_train,y_train)  #penalty是正则化项的类型，L1是lasso，L2是Ridge，防止过拟合。\n",
    "#C：正则化强度的逆。较高的值表示较强的正则化（较少的复杂度）\n",
    "#solver优化算法的类型。可以选择的算法有'lbfgs'、'sag'、'saga'和'newton-cg'等。\n",
    "#不同的算法在速度和稳定性上略有差异。\n",
    "#n_jobs控制模型的训练速度"
   ]
  },
  {
   "cell_type": "code",
   "execution_count": 43,
   "id": "a8e756e5-d6b7-4bda-a902-cb2745de2ab9",
   "metadata": {},
   "outputs": [
    {
     "data": {
      "text/html": [
       "<style>#sk-container-id-2 {color: black;}#sk-container-id-2 pre{padding: 0;}#sk-container-id-2 div.sk-toggleable {background-color: white;}#sk-container-id-2 label.sk-toggleable__label {cursor: pointer;display: block;width: 100%;margin-bottom: 0;padding: 0.3em;box-sizing: border-box;text-align: center;}#sk-container-id-2 label.sk-toggleable__label-arrow:before {content: \"▸\";float: left;margin-right: 0.25em;color: #696969;}#sk-container-id-2 label.sk-toggleable__label-arrow:hover:before {color: black;}#sk-container-id-2 div.sk-estimator:hover label.sk-toggleable__label-arrow:before {color: black;}#sk-container-id-2 div.sk-toggleable__content {max-height: 0;max-width: 0;overflow: hidden;text-align: left;background-color: #f0f8ff;}#sk-container-id-2 div.sk-toggleable__content pre {margin: 0.2em;color: black;border-radius: 0.25em;background-color: #f0f8ff;}#sk-container-id-2 input.sk-toggleable__control:checked~div.sk-toggleable__content {max-height: 200px;max-width: 100%;overflow: auto;}#sk-container-id-2 input.sk-toggleable__control:checked~label.sk-toggleable__label-arrow:before {content: \"▾\";}#sk-container-id-2 div.sk-estimator input.sk-toggleable__control:checked~label.sk-toggleable__label {background-color: #d4ebff;}#sk-container-id-2 div.sk-label input.sk-toggleable__control:checked~label.sk-toggleable__label {background-color: #d4ebff;}#sk-container-id-2 input.sk-hidden--visually {border: 0;clip: rect(1px 1px 1px 1px);clip: rect(1px, 1px, 1px, 1px);height: 1px;margin: -1px;overflow: hidden;padding: 0;position: absolute;width: 1px;}#sk-container-id-2 div.sk-estimator {font-family: monospace;background-color: #f0f8ff;border: 1px dotted black;border-radius: 0.25em;box-sizing: border-box;margin-bottom: 0.5em;}#sk-container-id-2 div.sk-estimator:hover {background-color: #d4ebff;}#sk-container-id-2 div.sk-parallel-item::after {content: \"\";width: 100%;border-bottom: 1px solid gray;flex-grow: 1;}#sk-container-id-2 div.sk-label:hover label.sk-toggleable__label {background-color: #d4ebff;}#sk-container-id-2 div.sk-serial::before {content: \"\";position: absolute;border-left: 1px solid gray;box-sizing: border-box;top: 0;bottom: 0;left: 50%;z-index: 0;}#sk-container-id-2 div.sk-serial {display: flex;flex-direction: column;align-items: center;background-color: white;padding-right: 0.2em;padding-left: 0.2em;position: relative;}#sk-container-id-2 div.sk-item {position: relative;z-index: 1;}#sk-container-id-2 div.sk-parallel {display: flex;align-items: stretch;justify-content: center;background-color: white;position: relative;}#sk-container-id-2 div.sk-item::before, #sk-container-id-2 div.sk-parallel-item::before {content: \"\";position: absolute;border-left: 1px solid gray;box-sizing: border-box;top: 0;bottom: 0;left: 50%;z-index: -1;}#sk-container-id-2 div.sk-parallel-item {display: flex;flex-direction: column;z-index: 1;position: relative;background-color: white;}#sk-container-id-2 div.sk-parallel-item:first-child::after {align-self: flex-end;width: 50%;}#sk-container-id-2 div.sk-parallel-item:last-child::after {align-self: flex-start;width: 50%;}#sk-container-id-2 div.sk-parallel-item:only-child::after {width: 0;}#sk-container-id-2 div.sk-dashed-wrapped {border: 1px dashed gray;margin: 0 0.4em 0.5em 0.4em;box-sizing: border-box;padding-bottom: 0.4em;background-color: white;}#sk-container-id-2 div.sk-label label {font-family: monospace;font-weight: bold;display: inline-block;line-height: 1.2em;}#sk-container-id-2 div.sk-label-container {text-align: center;}#sk-container-id-2 div.sk-container {/* jupyter's `normalize.less` sets `[hidden] { display: none; }` but bootstrap.min.css set `[hidden] { display: none !important; }` so we also need the `!important` here to be able to override the default hidden behavior on the sphinx rendered scikit-learn.org. See: https://github.com/scikit-learn/scikit-learn/issues/21755 */display: inline-block !important;position: relative;}#sk-container-id-2 div.sk-text-repr-fallback {display: none;}</style><div id=\"sk-container-id-2\" class=\"sk-top-container\"><div class=\"sk-text-repr-fallback\"><pre>LogisticRegression(C=0.9, n_jobs=-1, penalty=&#x27;l1&#x27;, solver=&#x27;saga&#x27;)</pre><b>In a Jupyter environment, please rerun this cell to show the HTML representation or trust the notebook. <br />On GitHub, the HTML representation is unable to render, please try loading this page with nbviewer.org.</b></div><div class=\"sk-container\" hidden><div class=\"sk-item\"><div class=\"sk-estimator sk-toggleable\"><input class=\"sk-toggleable__control sk-hidden--visually\" id=\"sk-estimator-id-2\" type=\"checkbox\" checked><label for=\"sk-estimator-id-2\" class=\"sk-toggleable__label sk-toggleable__label-arrow\">LogisticRegression</label><div class=\"sk-toggleable__content\"><pre>LogisticRegression(C=0.9, n_jobs=-1, penalty=&#x27;l1&#x27;, solver=&#x27;saga&#x27;)</pre></div></div></div></div></div>"
      ],
      "text/plain": [
       "LogisticRegression(C=0.9, n_jobs=-1, penalty='l1', solver='saga')"
      ]
     },
     "execution_count": 43,
     "metadata": {},
     "output_type": "execute_result"
    }
   ],
   "source": [
    "LogisticRegression(C=0.9, n_jobs=-1, penalty='l1', solver='saga')"
   ]
  },
  {
   "cell_type": "code",
   "execution_count": 44,
   "id": "95ddeb4a-2112-4a55-acdd-a92fd12dc47f",
   "metadata": {},
   "outputs": [
    {
     "data": {
      "text/plain": [
       "array([[0.63645404, 0.27667618, 0.76238602, 1.03963184, 0.8270508 ,\n",
       "        0.53522651, 1.72778868, 0.55877058, 0.44459763, 0.71114746,\n",
       "        0.27872011]])"
      ]
     },
     "execution_count": 44,
     "metadata": {},
     "output_type": "execute_result"
    }
   ],
   "source": [
    "lr.coef_"
   ]
  },
  {
   "cell_type": "code",
   "execution_count": 45,
   "id": "3b3e7b92-6c90-4cb2-affa-dd869cfb45d9",
   "metadata": {},
   "outputs": [
    {
     "data": {
      "text/plain": [
       "array([-0.8278024])"
      ]
     },
     "execution_count": 45,
     "metadata": {},
     "output_type": "execute_result"
    }
   ],
   "source": [
    "lr.intercept_"
   ]
  },
  {
   "cell_type": "code",
   "execution_count": 46,
   "id": "f13c5a4a-e6c9-4537-a530-3feb798cc588",
   "metadata": {},
   "outputs": [
    {
     "data": {
      "text/html": [
       "<div>\n",
       "<style scoped>\n",
       "    .dataframe tbody tr th:only-of-type {\n",
       "        vertical-align: middle;\n",
       "    }\n",
       "\n",
       "    .dataframe tbody tr th {\n",
       "        vertical-align: top;\n",
       "    }\n",
       "\n",
       "    .dataframe thead th {\n",
       "        text-align: right;\n",
       "    }\n",
       "</style>\n",
       "<table border=\"1\" class=\"dataframe\">\n",
       "  <thead>\n",
       "    <tr style=\"text-align: right;\">\n",
       "      <th></th>\n",
       "      <th>creditability</th>\n",
       "      <th>credit_history_woe</th>\n",
       "      <th>property_woe</th>\n",
       "      <th>status_of_existing_checking_account_woe</th>\n",
       "      <th>purpose_woe</th>\n",
       "      <th>credit_amount_woe</th>\n",
       "      <th>savings_account_and_bonds_woe</th>\n",
       "      <th>installment_rate_in_percentage_of_disposable_income_woe</th>\n",
       "      <th>duration_in_month_woe</th>\n",
       "      <th>housing_woe</th>\n",
       "      <th>age_in_years_woe</th>\n",
       "      <th>present_employment_since_woe</th>\n",
       "    </tr>\n",
       "  </thead>\n",
       "  <tbody>\n",
       "    <tr>\n",
       "      <th>creditability</th>\n",
       "      <td>1.000000</td>\n",
       "      <td>0.223713</td>\n",
       "      <td>0.138366</td>\n",
       "      <td>0.338655</td>\n",
       "      <td>0.185275</td>\n",
       "      <td>0.185104</td>\n",
       "      <td>0.164454</td>\n",
       "      <td>0.081306</td>\n",
       "      <td>0.216159</td>\n",
       "      <td>0.137929</td>\n",
       "      <td>0.149706</td>\n",
       "      <td>0.120492</td>\n",
       "    </tr>\n",
       "    <tr>\n",
       "      <th>credit_history_woe</th>\n",
       "      <td>0.223713</td>\n",
       "      <td>1.000000</td>\n",
       "      <td>0.065964</td>\n",
       "      <td>0.187599</td>\n",
       "      <td>0.048561</td>\n",
       "      <td>0.043051</td>\n",
       "      <td>0.022861</td>\n",
       "      <td>-0.043015</td>\n",
       "      <td>0.096823</td>\n",
       "      <td>0.107723</td>\n",
       "      <td>0.110129</td>\n",
       "      <td>0.114688</td>\n",
       "    </tr>\n",
       "    <tr>\n",
       "      <th>property_woe</th>\n",
       "      <td>0.138366</td>\n",
       "      <td>0.065964</td>\n",
       "      <td>1.000000</td>\n",
       "      <td>0.050109</td>\n",
       "      <td>-0.000092</td>\n",
       "      <td>0.202763</td>\n",
       "      <td>-0.012162</td>\n",
       "      <td>0.037289</td>\n",
       "      <td>0.270664</td>\n",
       "      <td>0.385101</td>\n",
       "      <td>-0.072692</td>\n",
       "      <td>-0.026858</td>\n",
       "    </tr>\n",
       "    <tr>\n",
       "      <th>status_of_existing_checking_account_woe</th>\n",
       "      <td>0.338655</td>\n",
       "      <td>0.187599</td>\n",
       "      <td>0.050109</td>\n",
       "      <td>1.000000</td>\n",
       "      <td>0.125563</td>\n",
       "      <td>0.094076</td>\n",
       "      <td>0.216077</td>\n",
       "      <td>-0.018167</td>\n",
       "      <td>0.102370</td>\n",
       "      <td>0.135174</td>\n",
       "      <td>0.120226</td>\n",
       "      <td>0.137429</td>\n",
       "    </tr>\n",
       "    <tr>\n",
       "      <th>purpose_woe</th>\n",
       "      <td>0.185275</td>\n",
       "      <td>0.048561</td>\n",
       "      <td>-0.000092</td>\n",
       "      <td>0.125563</td>\n",
       "      <td>1.000000</td>\n",
       "      <td>-0.033655</td>\n",
       "      <td>0.079544</td>\n",
       "      <td>-0.040250</td>\n",
       "      <td>-0.044294</td>\n",
       "      <td>-0.020701</td>\n",
       "      <td>0.034625</td>\n",
       "      <td>0.090148</td>\n",
       "    </tr>\n",
       "    <tr>\n",
       "      <th>credit_amount_woe</th>\n",
       "      <td>0.185104</td>\n",
       "      <td>0.043051</td>\n",
       "      <td>0.202763</td>\n",
       "      <td>0.094076</td>\n",
       "      <td>-0.033655</td>\n",
       "      <td>1.000000</td>\n",
       "      <td>-0.004798</td>\n",
       "      <td>-0.189162</td>\n",
       "      <td>0.334793</td>\n",
       "      <td>0.034146</td>\n",
       "      <td>-0.026494</td>\n",
       "      <td>0.030330</td>\n",
       "    </tr>\n",
       "    <tr>\n",
       "      <th>savings_account_and_bonds_woe</th>\n",
       "      <td>0.164454</td>\n",
       "      <td>0.022861</td>\n",
       "      <td>-0.012162</td>\n",
       "      <td>0.216077</td>\n",
       "      <td>0.079544</td>\n",
       "      <td>-0.004798</td>\n",
       "      <td>1.000000</td>\n",
       "      <td>-0.033542</td>\n",
       "      <td>0.031651</td>\n",
       "      <td>0.047464</td>\n",
       "      <td>0.088552</td>\n",
       "      <td>0.118795</td>\n",
       "    </tr>\n",
       "    <tr>\n",
       "      <th>installment_rate_in_percentage_of_disposable_income_woe</th>\n",
       "      <td>0.081306</td>\n",
       "      <td>-0.043015</td>\n",
       "      <td>0.037289</td>\n",
       "      <td>-0.018167</td>\n",
       "      <td>-0.040250</td>\n",
       "      <td>-0.189162</td>\n",
       "      <td>-0.033542</td>\n",
       "      <td>1.000000</td>\n",
       "      <td>0.120352</td>\n",
       "      <td>-0.027946</td>\n",
       "      <td>-0.020900</td>\n",
       "      <td>-0.057782</td>\n",
       "    </tr>\n",
       "    <tr>\n",
       "      <th>duration_in_month_woe</th>\n",
       "      <td>0.216159</td>\n",
       "      <td>0.096823</td>\n",
       "      <td>0.270664</td>\n",
       "      <td>0.102370</td>\n",
       "      <td>-0.044294</td>\n",
       "      <td>0.334793</td>\n",
       "      <td>0.031651</td>\n",
       "      <td>0.120352</td>\n",
       "      <td>1.000000</td>\n",
       "      <td>0.082360</td>\n",
       "      <td>0.016884</td>\n",
       "      <td>-0.059279</td>\n",
       "    </tr>\n",
       "    <tr>\n",
       "      <th>housing_woe</th>\n",
       "      <td>0.137929</td>\n",
       "      <td>0.107723</td>\n",
       "      <td>0.385101</td>\n",
       "      <td>0.135174</td>\n",
       "      <td>-0.020701</td>\n",
       "      <td>0.034146</td>\n",
       "      <td>0.047464</td>\n",
       "      <td>-0.027946</td>\n",
       "      <td>0.082360</td>\n",
       "      <td>1.000000</td>\n",
       "      <td>0.097411</td>\n",
       "      <td>0.068914</td>\n",
       "    </tr>\n",
       "    <tr>\n",
       "      <th>age_in_years_woe</th>\n",
       "      <td>0.149706</td>\n",
       "      <td>0.110129</td>\n",
       "      <td>-0.072692</td>\n",
       "      <td>0.120226</td>\n",
       "      <td>0.034625</td>\n",
       "      <td>-0.026494</td>\n",
       "      <td>0.088552</td>\n",
       "      <td>-0.020900</td>\n",
       "      <td>0.016884</td>\n",
       "      <td>0.097411</td>\n",
       "      <td>1.000000</td>\n",
       "      <td>0.212118</td>\n",
       "    </tr>\n",
       "    <tr>\n",
       "      <th>present_employment_since_woe</th>\n",
       "      <td>0.120492</td>\n",
       "      <td>0.114688</td>\n",
       "      <td>-0.026858</td>\n",
       "      <td>0.137429</td>\n",
       "      <td>0.090148</td>\n",
       "      <td>0.030330</td>\n",
       "      <td>0.118795</td>\n",
       "      <td>-0.057782</td>\n",
       "      <td>-0.059279</td>\n",
       "      <td>0.068914</td>\n",
       "      <td>0.212118</td>\n",
       "      <td>1.000000</td>\n",
       "    </tr>\n",
       "  </tbody>\n",
       "</table>\n",
       "</div>"
      ],
      "text/plain": [
       "                                                    creditability  \\\n",
       "creditability                                            1.000000   \n",
       "credit_history_woe                                       0.223713   \n",
       "property_woe                                             0.138366   \n",
       "status_of_existing_checking_account_woe                  0.338655   \n",
       "purpose_woe                                              0.185275   \n",
       "credit_amount_woe                                        0.185104   \n",
       "savings_account_and_bonds_woe                            0.164454   \n",
       "installment_rate_in_percentage_of_disposable_in...       0.081306   \n",
       "duration_in_month_woe                                    0.216159   \n",
       "housing_woe                                              0.137929   \n",
       "age_in_years_woe                                         0.149706   \n",
       "present_employment_since_woe                             0.120492   \n",
       "\n",
       "                                                    credit_history_woe  \\\n",
       "creditability                                                 0.223713   \n",
       "credit_history_woe                                            1.000000   \n",
       "property_woe                                                  0.065964   \n",
       "status_of_existing_checking_account_woe                       0.187599   \n",
       "purpose_woe                                                   0.048561   \n",
       "credit_amount_woe                                             0.043051   \n",
       "savings_account_and_bonds_woe                                 0.022861   \n",
       "installment_rate_in_percentage_of_disposable_in...           -0.043015   \n",
       "duration_in_month_woe                                         0.096823   \n",
       "housing_woe                                                   0.107723   \n",
       "age_in_years_woe                                              0.110129   \n",
       "present_employment_since_woe                                  0.114688   \n",
       "\n",
       "                                                    property_woe  \\\n",
       "creditability                                           0.138366   \n",
       "credit_history_woe                                      0.065964   \n",
       "property_woe                                            1.000000   \n",
       "status_of_existing_checking_account_woe                 0.050109   \n",
       "purpose_woe                                            -0.000092   \n",
       "credit_amount_woe                                       0.202763   \n",
       "savings_account_and_bonds_woe                          -0.012162   \n",
       "installment_rate_in_percentage_of_disposable_in...      0.037289   \n",
       "duration_in_month_woe                                   0.270664   \n",
       "housing_woe                                             0.385101   \n",
       "age_in_years_woe                                       -0.072692   \n",
       "present_employment_since_woe                           -0.026858   \n",
       "\n",
       "                                                    status_of_existing_checking_account_woe  \\\n",
       "creditability                                                                      0.338655   \n",
       "credit_history_woe                                                                 0.187599   \n",
       "property_woe                                                                       0.050109   \n",
       "status_of_existing_checking_account_woe                                            1.000000   \n",
       "purpose_woe                                                                        0.125563   \n",
       "credit_amount_woe                                                                  0.094076   \n",
       "savings_account_and_bonds_woe                                                      0.216077   \n",
       "installment_rate_in_percentage_of_disposable_in...                                -0.018167   \n",
       "duration_in_month_woe                                                              0.102370   \n",
       "housing_woe                                                                        0.135174   \n",
       "age_in_years_woe                                                                   0.120226   \n",
       "present_employment_since_woe                                                       0.137429   \n",
       "\n",
       "                                                    purpose_woe  \\\n",
       "creditability                                          0.185275   \n",
       "credit_history_woe                                     0.048561   \n",
       "property_woe                                          -0.000092   \n",
       "status_of_existing_checking_account_woe                0.125563   \n",
       "purpose_woe                                            1.000000   \n",
       "credit_amount_woe                                     -0.033655   \n",
       "savings_account_and_bonds_woe                          0.079544   \n",
       "installment_rate_in_percentage_of_disposable_in...    -0.040250   \n",
       "duration_in_month_woe                                 -0.044294   \n",
       "housing_woe                                           -0.020701   \n",
       "age_in_years_woe                                       0.034625   \n",
       "present_employment_since_woe                           0.090148   \n",
       "\n",
       "                                                    credit_amount_woe  \\\n",
       "creditability                                                0.185104   \n",
       "credit_history_woe                                           0.043051   \n",
       "property_woe                                                 0.202763   \n",
       "status_of_existing_checking_account_woe                      0.094076   \n",
       "purpose_woe                                                 -0.033655   \n",
       "credit_amount_woe                                            1.000000   \n",
       "savings_account_and_bonds_woe                               -0.004798   \n",
       "installment_rate_in_percentage_of_disposable_in...          -0.189162   \n",
       "duration_in_month_woe                                        0.334793   \n",
       "housing_woe                                                  0.034146   \n",
       "age_in_years_woe                                            -0.026494   \n",
       "present_employment_since_woe                                 0.030330   \n",
       "\n",
       "                                                    savings_account_and_bonds_woe  \\\n",
       "creditability                                                            0.164454   \n",
       "credit_history_woe                                                       0.022861   \n",
       "property_woe                                                            -0.012162   \n",
       "status_of_existing_checking_account_woe                                  0.216077   \n",
       "purpose_woe                                                              0.079544   \n",
       "credit_amount_woe                                                       -0.004798   \n",
       "savings_account_and_bonds_woe                                            1.000000   \n",
       "installment_rate_in_percentage_of_disposable_in...                      -0.033542   \n",
       "duration_in_month_woe                                                    0.031651   \n",
       "housing_woe                                                              0.047464   \n",
       "age_in_years_woe                                                         0.088552   \n",
       "present_employment_since_woe                                             0.118795   \n",
       "\n",
       "                                                    installment_rate_in_percentage_of_disposable_income_woe  \\\n",
       "creditability                                                                                0.081306         \n",
       "credit_history_woe                                                                          -0.043015         \n",
       "property_woe                                                                                 0.037289         \n",
       "status_of_existing_checking_account_woe                                                     -0.018167         \n",
       "purpose_woe                                                                                 -0.040250         \n",
       "credit_amount_woe                                                                           -0.189162         \n",
       "savings_account_and_bonds_woe                                                               -0.033542         \n",
       "installment_rate_in_percentage_of_disposable_in...                                           1.000000         \n",
       "duration_in_month_woe                                                                        0.120352         \n",
       "housing_woe                                                                                 -0.027946         \n",
       "age_in_years_woe                                                                            -0.020900         \n",
       "present_employment_since_woe                                                                -0.057782         \n",
       "\n",
       "                                                    duration_in_month_woe  \\\n",
       "creditability                                                    0.216159   \n",
       "credit_history_woe                                               0.096823   \n",
       "property_woe                                                     0.270664   \n",
       "status_of_existing_checking_account_woe                          0.102370   \n",
       "purpose_woe                                                     -0.044294   \n",
       "credit_amount_woe                                                0.334793   \n",
       "savings_account_and_bonds_woe                                    0.031651   \n",
       "installment_rate_in_percentage_of_disposable_in...               0.120352   \n",
       "duration_in_month_woe                                            1.000000   \n",
       "housing_woe                                                      0.082360   \n",
       "age_in_years_woe                                                 0.016884   \n",
       "present_employment_since_woe                                    -0.059279   \n",
       "\n",
       "                                                    housing_woe  \\\n",
       "creditability                                          0.137929   \n",
       "credit_history_woe                                     0.107723   \n",
       "property_woe                                           0.385101   \n",
       "status_of_existing_checking_account_woe                0.135174   \n",
       "purpose_woe                                           -0.020701   \n",
       "credit_amount_woe                                      0.034146   \n",
       "savings_account_and_bonds_woe                          0.047464   \n",
       "installment_rate_in_percentage_of_disposable_in...    -0.027946   \n",
       "duration_in_month_woe                                  0.082360   \n",
       "housing_woe                                            1.000000   \n",
       "age_in_years_woe                                       0.097411   \n",
       "present_employment_since_woe                           0.068914   \n",
       "\n",
       "                                                    age_in_years_woe  \\\n",
       "creditability                                               0.149706   \n",
       "credit_history_woe                                          0.110129   \n",
       "property_woe                                               -0.072692   \n",
       "status_of_existing_checking_account_woe                     0.120226   \n",
       "purpose_woe                                                 0.034625   \n",
       "credit_amount_woe                                          -0.026494   \n",
       "savings_account_and_bonds_woe                               0.088552   \n",
       "installment_rate_in_percentage_of_disposable_in...         -0.020900   \n",
       "duration_in_month_woe                                       0.016884   \n",
       "housing_woe                                                 0.097411   \n",
       "age_in_years_woe                                            1.000000   \n",
       "present_employment_since_woe                                0.212118   \n",
       "\n",
       "                                                    present_employment_since_woe  \n",
       "creditability                                                           0.120492  \n",
       "credit_history_woe                                                      0.114688  \n",
       "property_woe                                                           -0.026858  \n",
       "status_of_existing_checking_account_woe                                 0.137429  \n",
       "purpose_woe                                                             0.090148  \n",
       "credit_amount_woe                                                       0.030330  \n",
       "savings_account_and_bonds_woe                                           0.118795  \n",
       "installment_rate_in_percentage_of_disposable_in...                     -0.057782  \n",
       "duration_in_month_woe                                                  -0.059279  \n",
       "housing_woe                                                             0.068914  \n",
       "age_in_years_woe                                                        0.212118  \n",
       "present_employment_since_woe                                            1.000000  "
      ]
     },
     "execution_count": 46,
     "metadata": {},
     "output_type": "execute_result"
    }
   ],
   "source": [
    "train_woe.corr() #基本没有多重共线性"
   ]
  },
  {
   "cell_type": "code",
   "execution_count": 71,
   "id": "7cf24103-5e0c-49a1-8bc5-bec4c0c8b03d",
   "metadata": {},
   "outputs": [
    {
     "name": "stdout",
     "output_type": "stream",
     "text": [
      "1.3161993232843479\n"
     ]
    },
    {
     "data": {
      "text/html": [
       "<div>\n",
       "<style scoped>\n",
       "    .dataframe tbody tr th:only-of-type {\n",
       "        vertical-align: middle;\n",
       "    }\n",
       "\n",
       "    .dataframe tbody tr th {\n",
       "        vertical-align: top;\n",
       "    }\n",
       "\n",
       "    .dataframe thead th {\n",
       "        text-align: right;\n",
       "    }\n",
       "</style>\n",
       "<table border=\"1\" class=\"dataframe\">\n",
       "  <thead>\n",
       "    <tr style=\"text-align: right;\">\n",
       "      <th></th>\n",
       "      <th>feature</th>\n",
       "      <th>VIF</th>\n",
       "    </tr>\n",
       "  </thead>\n",
       "  <tbody>\n",
       "    <tr>\n",
       "      <th>0</th>\n",
       "      <td>creditability</td>\n",
       "      <td>1.081205</td>\n",
       "    </tr>\n",
       "    <tr>\n",
       "      <th>1</th>\n",
       "      <td>credit_history_woe</td>\n",
       "      <td>1.083140</td>\n",
       "    </tr>\n",
       "    <tr>\n",
       "      <th>2</th>\n",
       "      <td>property_woe</td>\n",
       "      <td>1.316199</td>\n",
       "    </tr>\n",
       "    <tr>\n",
       "      <th>3</th>\n",
       "      <td>status_of_existing_checking_account_woe</td>\n",
       "      <td>1.174639</td>\n",
       "    </tr>\n",
       "    <tr>\n",
       "      <th>4</th>\n",
       "      <td>purpose_woe</td>\n",
       "      <td>1.045425</td>\n",
       "    </tr>\n",
       "    <tr>\n",
       "      <th>5</th>\n",
       "      <td>credit_amount_woe</td>\n",
       "      <td>1.249287</td>\n",
       "    </tr>\n",
       "    <tr>\n",
       "      <th>6</th>\n",
       "      <td>savings_account_and_bonds_woe</td>\n",
       "      <td>1.075255</td>\n",
       "    </tr>\n",
       "    <tr>\n",
       "      <th>7</th>\n",
       "      <td>installment_rate_in_percentage_of_disposable_i...</td>\n",
       "      <td>1.094833</td>\n",
       "    </tr>\n",
       "    <tr>\n",
       "      <th>8</th>\n",
       "      <td>duration_in_month_woe</td>\n",
       "      <td>1.270067</td>\n",
       "    </tr>\n",
       "    <tr>\n",
       "      <th>9</th>\n",
       "      <td>housing_woe</td>\n",
       "      <td>1.235519</td>\n",
       "    </tr>\n",
       "    <tr>\n",
       "      <th>10</th>\n",
       "      <td>age_in_years_woe</td>\n",
       "      <td>1.092719</td>\n",
       "    </tr>\n",
       "    <tr>\n",
       "      <th>11</th>\n",
       "      <td>present_employment_since_woe</td>\n",
       "      <td>1.096198</td>\n",
       "    </tr>\n",
       "  </tbody>\n",
       "</table>\n",
       "</div>"
      ],
      "text/plain": [
       "                                              feature       VIF\n",
       "0                                       creditability  1.081205\n",
       "1                                  credit_history_woe  1.083140\n",
       "2                                        property_woe  1.316199\n",
       "3             status_of_existing_checking_account_woe  1.174639\n",
       "4                                         purpose_woe  1.045425\n",
       "5                                   credit_amount_woe  1.249287\n",
       "6                       savings_account_and_bonds_woe  1.075255\n",
       "7   installment_rate_in_percentage_of_disposable_i...  1.094833\n",
       "8                               duration_in_month_woe  1.270067\n",
       "9                                         housing_woe  1.235519\n",
       "10                                   age_in_years_woe  1.092719\n",
       "11                       present_employment_since_woe  1.096198"
      ]
     },
     "execution_count": 71,
     "metadata": {},
     "output_type": "execute_result"
    }
   ],
   "source": [
    "def checkVIF(df):\n",
    "    from statsmodels.stats.outliers_influence import variance_inflation_factor\n",
    "    name = df.columns\n",
    "    x = np.matrix(df)\n",
    "    VIF_list = [variance_inflation_factor(x,i) for i in range(x.shape[1])]\n",
    "    VIF = pd.DataFrame({'feature':name,\"VIF\":VIF_list})\n",
    "    max_VIF = max(VIF_list)\n",
    "    print(max_VIF)\n",
    "    return VIF\n",
    "checkVIF(train_woe) #计算训练集的VIF，利用VIF检验，确定是否存在多重共线性，以4或者10为界"
   ]
  },
  {
   "cell_type": "code",
   "execution_count": null,
   "id": "4cab9e36-fa41-41bc-ae78-4a2ca26915a4",
   "metadata": {},
   "outputs": [],
   "source": []
  },
  {
   "cell_type": "code",
   "execution_count": 47,
   "id": "16bd3c72-0f13-44e0-93e3-b26b8aa0571c",
   "metadata": {},
   "outputs": [],
   "source": [
    "train_pred = lr.predict_proba(X_train)[:,1]\n",
    "test_pred =  lr.predict_proba(X_test)[:,1]"
   ]
  },
  {
   "cell_type": "code",
   "execution_count": 48,
   "id": "c270bbd3-b135-49ba-8ccd-1d2095f47cbd",
   "metadata": {},
   "outputs": [
    {
     "data": {
      "image/png": "[encoded data removed]",
      "text/plain": [
       "<Figure size 640x480 with 2 Axes>"
      ]
     },
     "metadata": {},
     "output_type": "display_data"
    }
   ],
   "source": [
    "train_perf = sc.perf_eva(y_train,train_pred,title=\"train\")\n",
    "#KS值越大，模型区分能力越强。模型应该要能区别出违约户和正常户之间的差异，违约户的评级分配应当不同于正常户的评级分配。\n",
    "#KS值越大，表示模型能够将正、负客户区分开的程度越大。\n",
    "#通常来讲，KS>0.2即表示模型有较好的预测准确性。"
   ]
  },
  {
   "cell_type": "code",
   "execution_count": null,
   "id": "e097a98b-416b-4378-9234-69aad64739e8",
   "metadata": {},
   "outputs": [],
   "source": [
    "#ROC(Receiver Operating Characteristic）：接收者操作曲线，在特定刺激条件下，\n",
    "#以被试在不同判断标准下所得的虚报概率P（y/N）为横坐标，以击中概率P（y/SN）为纵坐标，画得的各点的连线。\n",
    "#AUC(Area Under Curve)：ROC曲线下面积，\n",
    "#介于0.1和1之间，AUC大的模型性能优于AUC小的模型性能。"
   ]
  },
  {
   "cell_type": "code",
   "execution_count": 49,
   "id": "729e2a62-9b03-47a8-8cae-f20bbb47dc3e",
   "metadata": {},
   "outputs": [
    {
     "data": {
      "image/png": "[encoded data removed]",
      "text/plain": [
       "<Figure size 640x480 with 2 Axes>"
      ]
     },
     "metadata": {},
     "output_type": "display_data"
    }
   ],
   "source": [
    "test_perf = sc.perf_eva(y_test,test_pred,title=\"test\")"
   ]
  },
  {
   "cell_type": "code",
   "execution_count": 50,
   "id": "13887d90-eb01-471e-9550-97acaf880349",
   "metadata": {},
   "outputs": [
    {
     "data": {
      "text/html": [
       "<div>\n",
       "<style scoped>\n",
       "    .dataframe tbody tr th:only-of-type {\n",
       "        vertical-align: middle;\n",
       "    }\n",
       "\n",
       "    .dataframe tbody tr th {\n",
       "        vertical-align: top;\n",
       "    }\n",
       "\n",
       "    .dataframe thead th {\n",
       "        text-align: right;\n",
       "    }\n",
       "</style>\n",
       "<table border=\"1\" class=\"dataframe\">\n",
       "  <thead>\n",
       "    <tr style=\"text-align: right;\">\n",
       "      <th></th>\n",
       "      <th>level_1</th>\n",
       "      <th>variable</th>\n",
       "      <th>bin</th>\n",
       "      <th>count</th>\n",
       "      <th>count_distr</th>\n",
       "      <th>good</th>\n",
       "      <th>bad</th>\n",
       "      <th>badprob</th>\n",
       "      <th>woe</th>\n",
       "      <th>bin_iv</th>\n",
       "      <th>total_iv</th>\n",
       "      <th>breaks</th>\n",
       "      <th>is_special_values</th>\n",
       "    </tr>\n",
       "  </thead>\n",
       "  <tbody>\n",
       "    <tr>\n",
       "      <th>14</th>\n",
       "      <td>0</td>\n",
       "      <td>credit_amount</td>\n",
       "      <td>[-inf,1400.0)</td>\n",
       "      <td>267</td>\n",
       "      <td>0.267</td>\n",
       "      <td>185</td>\n",
       "      <td>82</td>\n",
       "      <td>0.307116</td>\n",
       "      <td>0.033661</td>\n",
       "      <td>0.000305</td>\n",
       "      <td>0.18122</td>\n",
       "      <td>1400.0</td>\n",
       "      <td>False</td>\n",
       "    </tr>\n",
       "    <tr>\n",
       "      <th>15</th>\n",
       "      <td>1</td>\n",
       "      <td>credit_amount</td>\n",
       "      <td>[1400.0,1800.0)</td>\n",
       "      <td>105</td>\n",
       "      <td>0.105</td>\n",
       "      <td>87</td>\n",
       "      <td>18</td>\n",
       "      <td>0.171429</td>\n",
       "      <td>-0.728239</td>\n",
       "      <td>0.046815</td>\n",
       "      <td>0.18122</td>\n",
       "      <td>1800.0</td>\n",
       "      <td>False</td>\n",
       "    </tr>\n",
       "    <tr>\n",
       "      <th>16</th>\n",
       "      <td>2</td>\n",
       "      <td>credit_amount</td>\n",
       "      <td>[1800.0,4000.0)</td>\n",
       "      <td>382</td>\n",
       "      <td>0.382</td>\n",
       "      <td>287</td>\n",
       "      <td>95</td>\n",
       "      <td>0.248691</td>\n",
       "      <td>-0.258307</td>\n",
       "      <td>0.024109</td>\n",
       "      <td>0.18122</td>\n",
       "      <td>4000.0</td>\n",
       "      <td>False</td>\n",
       "    </tr>\n",
       "    <tr>\n",
       "      <th>17</th>\n",
       "      <td>3</td>\n",
       "      <td>credit_amount</td>\n",
       "      <td>[4000.0,9200.0)</td>\n",
       "      <td>196</td>\n",
       "      <td>0.196</td>\n",
       "      <td>120</td>\n",
       "      <td>76</td>\n",
       "      <td>0.387755</td>\n",
       "      <td>0.390539</td>\n",
       "      <td>0.031987</td>\n",
       "      <td>0.18122</td>\n",
       "      <td>9200.0</td>\n",
       "      <td>False</td>\n",
       "    </tr>\n",
       "    <tr>\n",
       "      <th>18</th>\n",
       "      <td>4</td>\n",
       "      <td>credit_amount</td>\n",
       "      <td>[9200.0,inf)</td>\n",
       "      <td>50</td>\n",
       "      <td>0.050</td>\n",
       "      <td>21</td>\n",
       "      <td>29</td>\n",
       "      <td>0.580000</td>\n",
       "      <td>1.170071</td>\n",
       "      <td>0.078005</td>\n",
       "      <td>0.18122</td>\n",
       "      <td>inf</td>\n",
       "      <td>False</td>\n",
       "    </tr>\n",
       "  </tbody>\n",
       "</table>\n",
       "</div>"
      ],
      "text/plain": [
       "    level_1       variable              bin  count  count_distr  good  bad  \\\n",
       "14        0  credit_amount    [-inf,1400.0)    267        0.267   185   82   \n",
       "15        1  credit_amount  [1400.0,1800.0)    105        0.105    87   18   \n",
       "16        2  credit_amount  [1800.0,4000.0)    382        0.382   287   95   \n",
       "17        3  credit_amount  [4000.0,9200.0)    196        0.196   120   76   \n",
       "18        4  credit_amount     [9200.0,inf)     50        0.050    21   29   \n",
       "\n",
       "     badprob       woe    bin_iv  total_iv  breaks  is_special_values  \n",
       "14  0.307116  0.033661  0.000305   0.18122  1400.0              False  \n",
       "15  0.171429 -0.728239  0.046815   0.18122  1800.0              False  \n",
       "16  0.248691 -0.258307  0.024109   0.18122  4000.0              False  \n",
       "17  0.387755  0.390539  0.031987   0.18122  9200.0              False  \n",
       "18  0.580000  1.170071  0.078005   0.18122     inf              False  "
      ]
     },
     "execution_count": 50,
     "metadata": {},
     "output_type": "execute_result"
    }
   ],
   "source": [
    "bins_adj_a_df[bins_adj_a_df[\"variable\"]==\"credit_amount\"]"
   ]
  },
  {
   "cell_type": "code",
   "execution_count": 51,
   "id": "365c109f-03bd-4148-bc4a-71a7265e1a32",
   "metadata": {},
   "outputs": [
    {
     "data": {
      "text/plain": [
       "array([[0.63645404, 0.27667618, 0.76238602, 1.03963184, 0.8270508 ,\n",
       "        0.53522651, 1.72778868, 0.55877058, 0.44459763, 0.71114746,\n",
       "        0.27872011]])"
      ]
     },
     "execution_count": 51,
     "metadata": {},
     "output_type": "execute_result"
    }
   ],
   "source": [
    "lr.coef_"
   ]
  },
  {
   "cell_type": "code",
   "execution_count": 52,
   "id": "f489730b-7c54-4cae-b19a-f73588929f83",
   "metadata": {},
   "outputs": [
    {
     "data": {
      "text/plain": [
       "array([-0.8278024])"
      ]
     },
     "execution_count": 52,
     "metadata": {},
     "output_type": "execute_result"
    }
   ],
   "source": [
    "lr.intercept_"
   ]
  },
  {
   "cell_type": "code",
   "execution_count": 53,
   "id": "cf725ab8-fcf4-426c-9739-f8594e483fdb",
   "metadata": {},
   "outputs": [],
   "source": [
    "import math"
   ]
  },
  {
   "cell_type": "code",
   "execution_count": 54,
   "id": "6734e6e6-fe6b-46b0-a19c-c6ae6166a986",
   "metadata": {},
   "outputs": [
    {
     "name": "stdout",
     "output_type": "stream",
     "text": [
      "A: 387.6036243278207 B: 72.13475204444818 basepoints: 447.31694506500946\n"
     ]
    }
   ],
   "source": [
    "B = 50/math.log(2)\n",
    "A = 600+B*math.log(1/19)\n",
    "basepoints=A-B*lr.intercept_[0]\n",
    "print(\"A:\",A,\"B:\",B,\"basepoints:\",basepoints)"
   ]
  },
  {
   "cell_type": "code",
   "execution_count": 55,
   "id": "70ec26c2-a89c-4c50-9583-6b67a526717e",
   "metadata": {},
   "outputs": [
    {
     "data": {
      "text/plain": [
       "-1.7266954274684423"
      ]
     },
     "execution_count": 55,
     "metadata": {},
     "output_type": "execute_result"
    }
   ],
   "source": [
    "-B*0.71112211*0.033661 #[-inf,1400.0)"
   ]
  },
  {
   "cell_type": "code",
   "execution_count": 56,
   "id": "24eb420c-78c3-4d76-880a-dd331ec4f913",
   "metadata": {},
   "outputs": [
    {
     "data": {
      "text/plain": [
       "25.71273709013759"
      ]
     },
     "execution_count": 56,
     "metadata": {},
     "output_type": "execute_result"
    }
   ],
   "source": [
    "-B*0.71112211*(-0.501256) #[1400.0,1900.0)"
   ]
  },
  {
   "cell_type": "code",
   "execution_count": 72,
   "id": "9e64eebc-64ec-485e-9cc5-bd93d37095d7",
   "metadata": {},
   "outputs": [],
   "source": [
    "card = sc.scorecard(bins_adj_a,lr,X_train.columns)"
   ]
  },
  {
   "cell_type": "code",
   "execution_count": 73,
   "id": "d9171352-7551-4841-9018-9554f03452b7",
   "metadata": {},
   "outputs": [],
   "source": [
    "card_df = pd.concat(card)"
   ]
  },
  {
   "cell_type": "code",
   "execution_count": 74,
   "id": "92d1ae55-1438-4a8a-a434-62cab309b5b3",
   "metadata": {},
   "outputs": [
    {
     "data": {
      "text/html": [
       "<div>\n",
       "<style scoped>\n",
       "    .dataframe tbody tr th:only-of-type {\n",
       "        vertical-align: middle;\n",
       "    }\n",
       "\n",
       "    .dataframe tbody tr th {\n",
       "        vertical-align: top;\n",
       "    }\n",
       "\n",
       "    .dataframe thead th {\n",
       "        text-align: right;\n",
       "    }\n",
       "</style>\n",
       "<table border=\"1\" class=\"dataframe\">\n",
       "  <thead>\n",
       "    <tr style=\"text-align: right;\">\n",
       "      <th></th>\n",
       "      <th></th>\n",
       "      <th>variable</th>\n",
       "      <th>bin</th>\n",
       "      <th>points</th>\n",
       "    </tr>\n",
       "  </thead>\n",
       "  <tbody>\n",
       "    <tr>\n",
       "      <th>basepoints</th>\n",
       "      <th>0</th>\n",
       "      <td>basepoints</td>\n",
       "      <td>NaN</td>\n",
       "      <td>447.0</td>\n",
       "    </tr>\n",
       "    <tr>\n",
       "      <th rowspan=\"4\" valign=\"top\">credit_history</th>\n",
       "      <th>0</th>\n",
       "      <td>credit_history</td>\n",
       "      <td>critical account/ other credits existing (not ...</td>\n",
       "      <td>34.0</td>\n",
       "    </tr>\n",
       "    <tr>\n",
       "      <th>1</th>\n",
       "      <td>credit_history</td>\n",
       "      <td>delay in paying off in the past</td>\n",
       "      <td>-4.0</td>\n",
       "    </tr>\n",
       "    <tr>\n",
       "      <th>2</th>\n",
       "      <td>credit_history</td>\n",
       "      <td>existing credits paid back duly till now</td>\n",
       "      <td>-4.0</td>\n",
       "    </tr>\n",
       "    <tr>\n",
       "      <th>3</th>\n",
       "      <td>credit_history</td>\n",
       "      <td>all credits at this bank paid back duly%,%no c...</td>\n",
       "      <td>-57.0</td>\n",
       "    </tr>\n",
       "  </tbody>\n",
       "</table>\n",
       "</div>"
      ],
      "text/plain": [
       "                        variable  \\\n",
       "basepoints     0      basepoints   \n",
       "credit_history 0  credit_history   \n",
       "               1  credit_history   \n",
       "               2  credit_history   \n",
       "               3  credit_history   \n",
       "\n",
       "                                                                bin  points  \n",
       "basepoints     0                                                NaN   447.0  \n",
       "credit_history 0  critical account/ other credits existing (not ...    34.0  \n",
       "               1                    delay in paying off in the past    -4.0  \n",
       "               2           existing credits paid back duly till now    -4.0  \n",
       "               3  all credits at this bank paid back duly%,%no c...   -57.0  "
      ]
     },
     "execution_count": 74,
     "metadata": {},
     "output_type": "execute_result"
    }
   ],
   "source": [
    "card_df.head()"
   ]
  },
  {
   "cell_type": "code",
   "execution_count": 75,
   "id": "918a53ec-583a-4de8-97e9-e19b965a83a2",
   "metadata": {},
   "outputs": [],
   "source": [
    "train_score = sc.scorecard_ply(train, card, print_step=0)\n",
    "test_score = sc.scorecard_ply(test, card, print_step=0)"
   ]
  },
  {
   "cell_type": "code",
   "execution_count": 76,
   "id": "a1631789-3533-42a5-a82d-cdcd77d83821",
   "metadata": {},
   "outputs": [
    {
     "data": {
      "text/html": [
       "<div>\n",
       "<style scoped>\n",
       "    .dataframe tbody tr th:only-of-type {\n",
       "        vertical-align: middle;\n",
       "    }\n",
       "\n",
       "    .dataframe tbody tr th {\n",
       "        vertical-align: top;\n",
       "    }\n",
       "\n",
       "    .dataframe thead th {\n",
       "        text-align: right;\n",
       "    }\n",
       "</style>\n",
       "<table border=\"1\" class=\"dataframe\">\n",
       "  <thead>\n",
       "    <tr style=\"text-align: right;\">\n",
       "      <th></th>\n",
       "      <th>score</th>\n",
       "    </tr>\n",
       "  </thead>\n",
       "  <tbody>\n",
       "    <tr>\n",
       "      <th>33</th>\n",
       "      <td>539.0</td>\n",
       "    </tr>\n",
       "    <tr>\n",
       "      <th>410</th>\n",
       "      <td>404.0</td>\n",
       "    </tr>\n",
       "    <tr>\n",
       "      <th>381</th>\n",
       "      <td>375.0</td>\n",
       "    </tr>\n",
       "    <tr>\n",
       "      <th>133</th>\n",
       "      <td>453.0</td>\n",
       "    </tr>\n",
       "    <tr>\n",
       "      <th>118</th>\n",
       "      <td>429.0</td>\n",
       "    </tr>\n",
       "  </tbody>\n",
       "</table>\n",
       "</div>"
      ],
      "text/plain": [
       "     score\n",
       "33   539.0\n",
       "410  404.0\n",
       "381  375.0\n",
       "133  453.0\n",
       "118  429.0"
      ]
     },
     "execution_count": 76,
     "metadata": {},
     "output_type": "execute_result"
    }
   ],
   "source": [
    "train_score.sample(5)"
   ]
  },
  {
   "cell_type": "code",
   "execution_count": 77,
   "id": "2f22e52a-d569-42b9-891b-ee5eb19417ef",
   "metadata": {},
   "outputs": [
    {
     "data": {
      "text/html": [
       "<div>\n",
       "<style scoped>\n",
       "    .dataframe tbody tr th:only-of-type {\n",
       "        vertical-align: middle;\n",
       "    }\n",
       "\n",
       "    .dataframe tbody tr th {\n",
       "        vertical-align: top;\n",
       "    }\n",
       "\n",
       "    .dataframe thead th {\n",
       "        text-align: right;\n",
       "    }\n",
       "</style>\n",
       "<table border=\"1\" class=\"dataframe\">\n",
       "  <thead>\n",
       "    <tr style=\"text-align: right;\">\n",
       "      <th></th>\n",
       "      <th>score</th>\n",
       "    </tr>\n",
       "  </thead>\n",
       "  <tbody>\n",
       "    <tr>\n",
       "      <th>954</th>\n",
       "      <td>388.0</td>\n",
       "    </tr>\n",
       "    <tr>\n",
       "      <th>115</th>\n",
       "      <td>588.0</td>\n",
       "    </tr>\n",
       "    <tr>\n",
       "      <th>978</th>\n",
       "      <td>491.0</td>\n",
       "    </tr>\n",
       "    <tr>\n",
       "      <th>742</th>\n",
       "      <td>587.0</td>\n",
       "    </tr>\n",
       "    <tr>\n",
       "      <th>283</th>\n",
       "      <td>614.0</td>\n",
       "    </tr>\n",
       "  </tbody>\n",
       "</table>\n",
       "</div>"
      ],
      "text/plain": [
       "     score\n",
       "954  388.0\n",
       "115  588.0\n",
       "978  491.0\n",
       "742  587.0\n",
       "283  614.0"
      ]
     },
     "execution_count": 77,
     "metadata": {},
     "output_type": "execute_result"
    }
   ],
   "source": [
    "test_score.sample(5)"
   ]
  },
  {
   "cell_type": "code",
   "execution_count": 78,
   "id": "8a6d5bc1-df66-4319-8701-8d7aaff8fd2e",
   "metadata": {},
   "outputs": [
    {
     "data": {
      "image/png": "[encoded data removed]",
      "text/plain": [
       "<Figure size 640x480 with 2 Axes>"
      ]
     },
     "metadata": {},
     "output_type": "display_data"
    },
    {
     "data": {
      "text/plain": [
       "{'psi':   variable       PSI\n",
       " 0    score  0.021166,\n",
       " 'pic': {'score': <Figure size 640x480 with 2 Axes>}}"
      ]
     },
     "execution_count": 78,
     "metadata": {},
     "output_type": "execute_result"
    }
   ],
   "source": [
    "card = sc.scorecard(bins_adj_a,lr,X_train.columns)\n",
    "train_score = sc.scorecard_ply(train, card, print_step=0)\n",
    "test_score = sc.scorecard_ply(test, card, print_step=0)\n",
    "\n",
    "sc.perf_psi(\n",
    "    score = {'train':train_score,'test':test_score},\n",
    "    label = {'train':y_train,'test':y_test}\n",
    ")"
   ]
  },
  {
   "cell_type": "code",
   "execution_count": null,
   "id": "71138e4d-5ef1-4b66-914c-0d4b3cb269df",
   "metadata": {},
   "outputs": [],
   "source": [
    "#以下是评分的提升度分析（无大用）"
   ]
  },
  {
   "cell_type": "code",
   "execution_count": 64,
   "id": "cbde2fca-adaf-4173-bb01-8dc2c8b377cb",
   "metadata": {},
   "outputs": [],
   "source": [
    "train_score = sc.scorecard_ply(train, card, print_step=0)"
   ]
  },
  {
   "cell_type": "code",
   "execution_count": 65,
   "id": "b3163ac5-132b-4ebc-a379-4dc1e0697537",
   "metadata": {},
   "outputs": [],
   "source": [
    "train_score[\"y\"] = y_train"
   ]
  },
  {
   "cell_type": "code",
   "execution_count": 66,
   "id": "ee077106-2f7b-4814-9caa-f9fb9dab1907",
   "metadata": {},
   "outputs": [],
   "source": [
    "train_score_sorted = train_score.sort_values(by=\"score\",ascending=True)"
   ]
  },
  {
   "cell_type": "code",
   "execution_count": 67,
   "id": "38fe137e-4a2f-44f7-a33a-16a319ce5a0e",
   "metadata": {},
   "outputs": [],
   "source": [
    "train_score_sorted[\"group\"] = [1]*70+[2]*70+[3]*70+[4]*70+[5]*70+[6]*70+[7]*70+[8]*70+[9]*70+[10]*70"
   ]
  },
  {
   "cell_type": "code",
   "execution_count": 68,
   "id": "4a10d504-7816-4365-b41e-fe2513bcd027",
   "metadata": {},
   "outputs": [],
   "source": [
    "group_df = train_score_sorted.groupby(by=\"group\",as_index=False).agg({\"score\":\"count\",\"y\":\"sum\"})"
   ]
  },
  {
   "cell_type": "code",
   "execution_count": 69,
   "id": "01a53048-9865-4189-9cb7-2096d20dea5e",
   "metadata": {},
   "outputs": [
    {
     "data": {
      "text/html": [
       "<div>\n",
       "<style scoped>\n",
       "    .dataframe tbody tr th:only-of-type {\n",
       "        vertical-align: middle;\n",
       "    }\n",
       "\n",
       "    .dataframe tbody tr th {\n",
       "        vertical-align: top;\n",
       "    }\n",
       "\n",
       "    .dataframe thead th {\n",
       "        text-align: right;\n",
       "    }\n",
       "</style>\n",
       "<table border=\"1\" class=\"dataframe\">\n",
       "  <thead>\n",
       "    <tr style=\"text-align: right;\">\n",
       "      <th></th>\n",
       "      <th>group</th>\n",
       "      <th>score</th>\n",
       "      <th>y</th>\n",
       "    </tr>\n",
       "  </thead>\n",
       "  <tbody>\n",
       "    <tr>\n",
       "      <th>0</th>\n",
       "      <td>1</td>\n",
       "      <td>70</td>\n",
       "      <td>49</td>\n",
       "    </tr>\n",
       "    <tr>\n",
       "      <th>1</th>\n",
       "      <td>2</td>\n",
       "      <td>70</td>\n",
       "      <td>42</td>\n",
       "    </tr>\n",
       "    <tr>\n",
       "      <th>2</th>\n",
       "      <td>3</td>\n",
       "      <td>70</td>\n",
       "      <td>34</td>\n",
       "    </tr>\n",
       "    <tr>\n",
       "      <th>3</th>\n",
       "      <td>4</td>\n",
       "      <td>70</td>\n",
       "      <td>31</td>\n",
       "    </tr>\n",
       "    <tr>\n",
       "      <th>4</th>\n",
       "      <td>5</td>\n",
       "      <td>70</td>\n",
       "      <td>17</td>\n",
       "    </tr>\n",
       "    <tr>\n",
       "      <th>5</th>\n",
       "      <td>6</td>\n",
       "      <td>70</td>\n",
       "      <td>17</td>\n",
       "    </tr>\n",
       "    <tr>\n",
       "      <th>6</th>\n",
       "      <td>7</td>\n",
       "      <td>70</td>\n",
       "      <td>10</td>\n",
       "    </tr>\n",
       "    <tr>\n",
       "      <th>7</th>\n",
       "      <td>8</td>\n",
       "      <td>70</td>\n",
       "      <td>6</td>\n",
       "    </tr>\n",
       "    <tr>\n",
       "      <th>8</th>\n",
       "      <td>9</td>\n",
       "      <td>70</td>\n",
       "      <td>2</td>\n",
       "    </tr>\n",
       "    <tr>\n",
       "      <th>9</th>\n",
       "      <td>10</td>\n",
       "      <td>70</td>\n",
       "      <td>2</td>\n",
       "    </tr>\n",
       "  </tbody>\n",
       "</table>\n",
       "</div>"
      ],
      "text/plain": [
       "   group  score   y\n",
       "0      1     70  49\n",
       "1      2     70  42\n",
       "2      3     70  34\n",
       "3      4     70  31\n",
       "4      5     70  17\n",
       "5      6     70  17\n",
       "6      7     70  10\n",
       "7      8     70   6\n",
       "8      9     70   2\n",
       "9     10     70   2"
      ]
     },
     "execution_count": 69,
     "metadata": {},
     "output_type": "execute_result"
    }
   ],
   "source": [
    "group_df "
   ]
  },
  {
   "cell_type": "code",
   "execution_count": 70,
   "id": "84150b11-5e7d-4b9d-a6d5-5f52afa6683c",
   "metadata": {},
   "outputs": [],
   "source": [
    "group_df[\"bad_model_rate\"] = group_df[\"y\"]/group_df[\"y\"].sum()"
   ]
  },
  {
   "cell_type": "code",
   "execution_count": null,
   "id": "36b38579-0920-409c-a627-00ad66dbe75d",
   "metadata": {},
   "outputs": [],
   "source": []
  }
 ],
 "metadata": {
  "kernelspec": {
   "display_name": "Python 3 (ipykernel)",
   "language": "python",
   "name": "python3"
  },
  "language_info": {
   "codemirror_mode": {
    "name": "ipython",
    "version": 3
   },
   "file_extension": ".py",
   "mimetype": "text/x-python",
   "name": "python",
   "nbconvert_exporter": "python",
   "pygments_lexer": "ipython3",
   "version": "3.11.5"
  }
 },
 "nbformat": 4,
 "nbformat_minor": 5
}
